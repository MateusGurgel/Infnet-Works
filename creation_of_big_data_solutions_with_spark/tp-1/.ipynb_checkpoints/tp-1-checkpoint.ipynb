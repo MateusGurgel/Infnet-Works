{
 "cells": [
  {
   "metadata": {
    "ExecuteTime": {
     "end_time": "2025-05-12T14:10:46.978968Z",
     "start_time": "2025-05-12T14:10:36.445913Z"
    }
   },
   "cell_type": "code",
   "source": [
    "%pip install pyspark\n",
    "%pip install graphframes\n",
    "%pip install duckdb"
   ],
   "id": "559ca98123d0b840",
   "outputs": [
    {
     "name": "stdout",
     "output_type": "stream",
     "text": [
      "Defaulting to user installation because normal site-packages is not writeable\r\n",
      "Requirement already satisfied: pyspark in /home/mateus/.local/lib/python3.10/site-packages (3.5.5)\r\n",
      "Requirement already satisfied: py4j==0.10.9.7 in /home/mateus/.local/lib/python3.10/site-packages (from pyspark) (0.10.9.7)\r\n",
      "Note: you may need to restart the kernel to use updated packages.\n",
      "Defaulting to user installation because normal site-packages is not writeable\r\n",
      "Requirement already satisfied: graphframes in /home/mateus/.local/lib/python3.10/site-packages (0.6)\r\n",
      "Requirement already satisfied: numpy in /home/mateus/.local/lib/python3.10/site-packages (from graphframes) (2.2.5)\r\n",
      "Requirement already satisfied: nose in /home/mateus/.local/lib/python3.10/site-packages (from graphframes) (1.3.7)\r\n",
      "Note: you may need to restart the kernel to use updated packages.\n",
      "Defaulting to user installation because normal site-packages is not writeable\r\n",
      "Requirement already satisfied: duckdb in /home/mateus/.local/lib/python3.10/site-packages (1.2.2)\r\n",
      "Note: you may need to restart the kernel to use updated packages.\n"
     ]
    }
   ],
   "execution_count": 109
  },
  {
   "metadata": {},
   "cell_type": "markdown",
   "source": [
    "1) Criação do GraphFrame\n",
    "\n",
    "Construa os DataFrames de vértices e arestas e monte o GraphFrame representando a rede de conexões.\n",
    "Mostre o conteúdo de gf.vertices e gf.edges."
   ],
   "id": "37946ce74d5cbeb9"
  },
  {
   "metadata": {
    "ExecuteTime": {
     "end_time": "2025-05-12T20:17:47.242825Z",
     "start_time": "2025-05-12T20:17:46.140338Z"
    }
   },
   "cell_type": "code",
   "source": [
    "from pyspark.sql import SparkSession\n",
    "from graphframes import GraphFrame\n",
    "\n",
    "# Criando a sessão com apache spark\n",
    "spark = SparkSession.builder \\\n",
    "    .appName(\"GraphFrame\") \\\n",
    "    .config(\"spark.jars.packages\", \"graphframes:graphframes:0.8.3-spark3.4-s_2.12\") \\\n",
    "    .getOrCreate()\n",
    "\n",
    "# Lendo os grafos do disco\n",
    "edges = spark.read.csv(\"data/graph-1/grafo1_arestas.csv\", header=True, inferSchema=True)\n",
    "vertices = spark.read.csv(\"data/graph-1/grafo1_vertices.csv\", header=True, inferSchema=True)\n",
    "\n",
    "# Criando um objeto GraphFrame para manipular e processar grafos\n",
    "g = GraphFrame(vertices, edges)\n",
    "\n",
    "# Mostrando os vétices e arestas\n",
    "g.vertices.show()\n",
    "g.edges.show()\n",
    "\n",
    "# Deletando a sessão\n",
    "spark.stop()"
   ],
   "id": "a44cdc21267cc1bd",
   "outputs": [
    {
     "name": "stdout",
     "output_type": "stream",
     "text": [
      "+---+-------------+-------------+\n",
      "| id|         nome|         tipo|\n",
      "+---+-------------+-------------+\n",
      "| r1|   Rick C-137|         Rick|\n",
      "| m1|  Morty C-137|        Morty|\n",
      "| r2|    Rick D-99|         Rick|\n",
      "| m2|   Morty D-99|        Morty|\n",
      "| s1| Summer C-137|       Summer|\n",
      "| b1|   Birdperson|   Birdperson|\n",
      "| t1|        Tammy|        Tammy|\n",
      "| p1|Phoenixperson|Phoenixperson|\n",
      "+---+-------------+-------------+\n",
      "\n",
      "+---+---+--------+\n",
      "|src|dst| relacao|\n",
      "+---+---+--------+\n",
      "| r1| m1| protege|\n",
      "| r1| s1| protege|\n",
      "| m1| s1|   amigo|\n",
      "| r2| m2| protege|\n",
      "| b1| r1|   amigo|\n",
      "| t1| b1|   traiu|\n",
      "| p1| r1| inimigo|\n",
      "| r1| r2| conhece|\n",
      "| m1| m2| conhece|\n",
      "| r2| t1|suspeita|\n",
      "+---+---+--------+\n",
      "\n"
     ]
    }
   ],
   "execution_count": 24
  },
  {
   "metadata": {},
   "cell_type": "markdown",
   "source": [
    "2. Cálculo de Grau dos Personagens\n",
    "\n",
    "Utilize os métodos inDegrees e outDegrees para calcular:\n",
    "\n",
    "    Grau de entrada (inDegree);\n",
    "    Grau de saída (outDegree).\n",
    "\n",
    "Identifique o personagem com maior grau de saída."
   ],
   "id": "33bc2a4c1ef1de2c"
  },
  {
   "metadata": {
    "ExecuteTime": {
     "end_time": "2025-05-12T20:31:20.786049Z",
     "start_time": "2025-05-12T20:31:20.226105Z"
    }
   },
   "cell_type": "code",
   "source": [
    "from pyspark.sql import SparkSession\n",
    "from graphframes import GraphFrame\n",
    "\n",
    "# Criando a sessão com apache spark\n",
    "spark = SparkSession.builder \\\n",
    "    .appName(\"GraphFrame\") \\\n",
    "    .config(\"spark.jars.packages\", \"graphframes:graphframes:0.8.3-spark3.4-s_2.12\") \\\n",
    "    .getOrCreate()\n",
    "\n",
    "# Lendo os grafos do disco\n",
    "edges = spark.read.csv(\"data/graph-1/grafo1_arestas.csv\", header=True, inferSchema=True)\n",
    "vertices = spark.read.csv(\"data/graph-1/grafo1_vertices.csv\", header=True, inferSchema=True)\n",
    "\n",
    "# Criando um objeto GraphFrame para manipular e processar grafos\n",
    "g = GraphFrame(vertices, edges)\n",
    "\n",
    "# Obtendo o numero de conexões que entram e saem dos nós\n",
    "print(\"Grau de entrada\")\n",
    "in_degrees = g.inDegrees\n",
    "in_degrees.show()\n",
    "\n",
    "print(\"Grau de saída\")\n",
    "out_degrees = g.outDegrees\n",
    "out_degrees.show()\n",
    "\n",
    "# Deletando a sessão\n",
    "spark.stop()\n",
    "\n"
   ],
   "id": "b46966b709518893",
   "outputs": [
    {
     "name": "stdout",
     "output_type": "stream",
     "text": [
      "+---+-------------+-------------+\n",
      "| id|         nome|         tipo|\n",
      "+---+-------------+-------------+\n",
      "| r1|   Rick C-137|         Rick|\n",
      "| m1|  Morty C-137|        Morty|\n",
      "| r2|    Rick D-99|         Rick|\n",
      "| m2|   Morty D-99|        Morty|\n",
      "| s1| Summer C-137|       Summer|\n",
      "| b1|   Birdperson|   Birdperson|\n",
      "| t1|        Tammy|        Tammy|\n",
      "| p1|Phoenixperson|Phoenixperson|\n",
      "+---+-------------+-------------+\n",
      "\n",
      "+---+---+--------+\n",
      "|src|dst| relacao|\n",
      "+---+---+--------+\n",
      "| r1| m1| protege|\n",
      "| r1| s1| protege|\n",
      "| m1| s1|   amigo|\n",
      "| r2| m2| protege|\n",
      "| b1| r1|   amigo|\n",
      "| t1| b1|   traiu|\n",
      "| p1| r1| inimigo|\n",
      "| r1| r2| conhece|\n",
      "| m1| m2| conhece|\n",
      "| r2| t1|suspeita|\n",
      "+---+---+--------+\n",
      "\n",
      "Grau de entrada\n",
      "+---+--------+\n",
      "| id|inDegree|\n",
      "+---+--------+\n",
      "| r1|       2|\n",
      "| r2|       1|\n",
      "| t1|       1|\n",
      "| b1|       1|\n",
      "| m1|       1|\n",
      "| s1|       2|\n",
      "| m2|       2|\n",
      "+---+--------+\n",
      "\n",
      "Grau de saída\n",
      "+---+---------+\n",
      "| id|outDegree|\n",
      "+---+---------+\n",
      "| r1|        3|\n",
      "| r2|        2|\n",
      "| t1|        1|\n",
      "| b1|        1|\n",
      "| m1|        2|\n",
      "| p1|        1|\n",
      "+---+---------+\n",
      "\n"
     ]
    }
   ],
   "execution_count": 39
  },
  {
   "metadata": {},
   "cell_type": "markdown",
   "source": [
    "3. Busca de Padrões Específicos\n",
    "\n",
    "Utilize gf.find para localizar padrões onde:\n",
    "\n",
    "    Um Rick protege um Morty que é amigo de uma Summer.\n",
    "\n",
    "Mostre o código e o resultado."
   ],
   "id": "b207f99542dfa0f2"
  },
  {
   "metadata": {
    "ExecuteTime": {
     "end_time": "2025-05-12T20:33:38.128734Z",
     "start_time": "2025-05-12T20:33:37.557901Z"
    }
   },
   "cell_type": "code",
   "source": [
    "from pyspark.sql import SparkSession\n",
    "from graphframes import GraphFrame\n",
    "\n",
    "# Criando a sessão com apache spark\n",
    "spark = SparkSession.builder \\\n",
    "    .appName(\"GraphFrame\") \\\n",
    "    .config(\"spark.jars.packages\", \"graphframes:graphframes:0.8.3-spark3.4-s_2.12\") \\\n",
    "    .getOrCreate()\n",
    "\n",
    "# Lendo os grafos do disco\n",
    "edges = spark.read.csv(\"data/graph-1/grafo1_arestas.csv\", header=True, inferSchema=True)\n",
    "vertices = spark.read.csv(\"data/graph-1/grafo1_vertices.csv\", header=True, inferSchema=True)\n",
    "\n",
    "# Criando um objeto GraphFrame para manipular e processar grafos\n",
    "g = GraphFrame(vertices, edges)\n",
    "\n",
    "pattern = \"\"\"\n",
    "  (rick)-[e1]->(morty);\n",
    "  (morty)-[e2]->(summer)\n",
    "\"\"\"\n",
    "result = g.find(pattern) \\\n",
    "    .filter(\"e1.relacao = 'protege' AND e2.relacao = 'amigo'\") \\\n",
    "    .filter(\"rick.tipo == 'Rick' AND morty.tipo == 'Morty' AND summer.tipo == 'Summer'\")\n",
    "\n",
    "result.selectExpr(\n",
    "    \"rick.nome AS Rick\",\n",
    "    \"morty.nome AS Morty\",\n",
    "    \"summer.nome AS Summer\"\n",
    ").show()\n",
    "\n",
    "spark.stop()"
   ],
   "id": "2798ecfb74a1619b",
   "outputs": [
    {
     "name": "stdout",
     "output_type": "stream",
     "text": [
      "+----------+-----------+------------+\n",
      "|      Rick|      Morty|      Summer|\n",
      "+----------+-----------+------------+\n",
      "|Rick C-137|Morty C-137|Summer C-137|\n",
      "+----------+-----------+------------+\n",
      "\n"
     ]
    }
   ],
   "execution_count": 40
  },
  {
   "metadata": {},
   "cell_type": "markdown",
   "source": [
    "4. Determinação dos Personagens Mais Influentes (PageRank)\n",
    "\n",
    "Execute o algoritmo PageRank com resetProbability=0.15 e mostre:\n",
    "\n",
    "    Os 3 personagens mais influentes da rede.\n",
    "\n"
   ],
   "id": "b2c2d92f825808fb"
  },
  {
   "metadata": {
    "ExecuteTime": {
     "end_time": "2025-05-12T20:37:21.438335Z",
     "start_time": "2025-05-12T20:36:43.153205Z"
    }
   },
   "cell_type": "code",
   "source": [
    "from pyspark.sql import SparkSession\n",
    "from graphframes import GraphFrame\n",
    "\n",
    "# Criando a sessão com apache spark\n",
    "spark = SparkSession.builder \\\n",
    "    .appName(\"GraphFrame\") \\\n",
    "    .config(\"spark.jars.packages\", \"graphframes:graphframes:0.8.3-spark3.4-s_2.12\") \\\n",
    "    .getOrCreate()\n",
    "\n",
    "# Lendo os grafos do disco\n",
    "edges = spark.read.csv(\"data/graph-1/grafo1_arestas.csv\", header=True, inferSchema=True)\n",
    "vertices = spark.read.csv(\"data/graph-1/grafo1_vertices.csv\", header=True, inferSchema=True)\n",
    "\n",
    "# Criando um objeto GraphFrame para manipular e processar grafos\n",
    "g = GraphFrame(vertices, edges)\n",
    "\n",
    "# Executando o algoritimo pageRank, criado pelo Larry page, fundador do google\n",
    "page_rank_results = g.pageRank(resetProbability=0.15, maxIter=20)\n",
    "\n",
    "# Ordenando pelos 3 nós com o maior rank\n",
    "top3 = (page_rank_results.vertices\n",
    "              .selectExpr(\"id\", \"nome\", \"pagerank\")\n",
    "              .orderBy(\"pagerank\", ascending=False)\n",
    "              .limit(3))\n",
    "\n",
    "# Mostra o resultado da query de top 3\n",
    "top3.show(truncate=False)\n",
    "\n",
    "# Para a sessão do spark\n",
    "spark.stop()"
   ],
   "id": "5424f22fb9fb6858",
   "outputs": [
    {
     "name": "stderr",
     "output_type": "stream",
     "text": [
      "                                                                                \r"
     ]
    },
    {
     "name": "stdout",
     "output_type": "stream",
     "text": [
      "+---+------------+------------------+\n",
      "|id |nome        |pagerank          |\n",
      "+---+------------+------------------+\n",
      "|r1 |Rick C-137  |1.6459754952224794|\n",
      "|s1 |Summer C-137|1.2387606862272105|\n",
      "|m2 |Morty D-99  |1.1418523100549656|\n",
      "+---+------------+------------------+\n",
      "\n"
     ]
    }
   ],
   "execution_count": 41
  },
  {
   "metadata": {},
   "cell_type": "markdown",
   "source": [
    "5. Caminho Limitado entre Rick C-137 e Phoenixperson (BFS)\n",
    "\n",
    "Use bfs para encontrar um caminho de no máximo 3 passos entre Rick C-137 e Phoenixperson.\n",
    "\n"
   ],
   "id": "65c8b87ebdaa2756"
  },
  {
   "metadata": {
    "ExecuteTime": {
     "end_time": "2025-05-12T20:45:15.185192Z",
     "start_time": "2025-05-12T20:45:12.408454Z"
    }
   },
   "cell_type": "code",
   "source": [
    "from pyspark.sql import SparkSession\n",
    "from graphframes import GraphFrame\n",
    "\n",
    "# Criando a sessão com apache spark\n",
    "spark = SparkSession.builder \\\n",
    "    .appName(\"GraphFrame\") \\\n",
    "    .config(\"spark.jars.packages\", \"graphframes:graphframes:0.8.3-spark3.4-s_2.12\") \\\n",
    "    .getOrCreate()\n",
    "\n",
    "# Lendo os grafos do disco\n",
    "edges = spark.read.csv(\"data/graph-1/grafo1_arestas.csv\", header=True, inferSchema=True)\n",
    "vertices = spark.read.csv(\"data/graph-1/grafo1_vertices.csv\", header=True, inferSchema=True)\n",
    "\n",
    "# Criando um objeto GraphFrame para manipular e processar grafos\n",
    "g = GraphFrame(vertices, edges)\n",
    "\n",
    "# Usando busca e largura para achar um caminho entre Rick C-137 e PhonixPerson\n",
    "paths = g.bfs(\n",
    "    fromExpr=\"nome = 'Rick C-137'\",\n",
    "    toExpr=\"nome = 'Phoenixperson'\",\n",
    "    maxPathLength=3\n",
    ")\n",
    "\n",
    "print(\"Rick -> Phoenixperson:\")\n",
    "paths.show(truncate=False)\n",
    "\n",
    "# O caminho entre Rick C-137 e Pessoa fenix não existe.\n",
    "\n",
    "# Vamos tentar o caminh contário.\n",
    "\n",
    "paths = g.bfs(\n",
    "    fromExpr=\"nome = 'Phoenixperson'\",\n",
    "    toExpr=\"nome = 'Rick C-137'\",\n",
    "    maxPathLength=3\n",
    ")\n",
    "\n",
    "\n",
    "print(\"Phoenixperson -> Rick:\")\n",
    "paths.show(truncate=False)\n",
    "\n",
    "# Para a sessão do spark\n",
    "spark.stop()\n"
   ],
   "id": "d730a8bcc228eadd",
   "outputs": [
    {
     "name": "stdout",
     "output_type": "stream",
     "text": [
      "Rick -> Phoenixperson:\n",
      "+---+----+----+\n",
      "|id |nome|tipo|\n",
      "+---+----+----+\n",
      "+---+----+----+\n",
      "\n",
      "Phoenixperson -> Rick:\n",
      "+----------------------------------+-----------------+----------------------+\n",
      "|from                              |e0               |to                    |\n",
      "+----------------------------------+-----------------+----------------------+\n",
      "|{p1, Phoenixperson, Phoenixperson}|{p1, r1, inimigo}|{r1, Rick C-137, Rick}|\n",
      "+----------------------------------+-----------------+----------------------+\n",
      "\n"
     ]
    }
   ],
   "execution_count": 44
  },
  {
   "metadata": {},
   "cell_type": "markdown",
   "source": [
    "6. Análise de Componentes Conectados\n",
    "\n",
    "Utilize o algoritmo connectedComponents para identificar:\n",
    "\n",
    "    Quantos componentes existem no grafo;\n",
    "    Quais personagens pertencem a cada componente.\n"
   ],
   "id": "760965b8b2d5043c"
  },
  {
   "metadata": {
    "ExecuteTime": {
     "end_time": "2025-05-12T14:23:53.867265Z",
     "start_time": "2025-05-12T14:21:41.058275Z"
    }
   },
   "cell_type": "code",
   "source": [
    "from pyspark.sql.functions import col, collect_list, count\n",
    "\n",
    "# Iniciando a sessão\n",
    "spark = SparkSession.builder \\\n",
    "    .appName(\"GraphFrame CC\") \\\n",
    "    .config(\"spark.jars.packages\", \"graphframes:graphframes:0.8.3-spark3.4-s_2.12\") \\\n",
    "    .getOrCreate()\n",
    "\n",
    "# Adicionando um checkpoint em caso de memória lotada\n",
    "spark.sparkContext.setCheckpointDir(\"/tmp/spark-checkpoint\")\n",
    "\n",
    "# Lendo os vértices e as arestas\n",
    "edges = spark.read.csv(\"data/graph-1/grafo1_arestas.csv\", header=True, inferSchema=True)\n",
    "vertices = spark.read.csv(\"data/graph-1/grafo1_vertices.csv\", header=True, inferSchema=True)\n",
    "\n",
    "# Criando um objeto GraphFrame\n",
    "g = GraphFrame(vertices, edges)\n",
    "\n",
    "# Criando um novo DF com uma novas colunas de alias\n",
    "cc = g.connectedComponents()\n",
    "cc_alias = cc.alias(\"cc\")\n",
    "v_alias  = vertices.alias(\"v\")\n",
    "\n",
    "\n",
    "comp_por_personagem = (\n",
    "    cc_alias\n",
    "     .join(v_alias, col(\"cc.id\") == col(\"v.id\")) # Realizando o join nas colunas criadas com alias\n",
    "     .groupBy(col(\"cc.component\")) # Agrupando pelo componente\n",
    "     .agg(\n",
    "         count(\"*\").alias(\"qtd_personagens\"),\n",
    "         collect_list(col(\"v.nome\")).alias(\"personagens\")\n",
    "     )  #Contando todos os personagens com o mesmo componente\n",
    "     .orderBy(\"cc.component\")\n",
    ")\n",
    "\n",
    "comp_por_personagem.show(truncate=False)\n",
    "\n",
    "spark.stop()"
   ],
   "id": "2999aff9be4c49cd",
   "outputs": [
    {
     "name": "stderr",
     "output_type": "stream",
     "text": [
      "                                                                                \r"
     ]
    },
    {
     "name": "stdout",
     "output_type": "stream",
     "text": [
      "+------------+---------------+------------------------------------------------------------------------------------------------+\n",
      "|component   |qtd_personagens|personagens                                                                                     |\n",
      "+------------+---------------+------------------------------------------------------------------------------------------------+\n",
      "|403726925824|8              |[Rick C-137, Morty C-137, Rick D-99, Morty D-99, Summer C-137, Birdperson, Tammy, Phoenixperson]|\n",
      "+------------+---------------+------------------------------------------------------------------------------------------------+\n",
      "\n"
     ]
    }
   ],
   "execution_count": 119
  },
  {
   "metadata": {},
   "cell_type": "markdown",
   "source": [
    "7. Detecção de Triângulos de Relações\n",
    "\n",
    "Usando motif finding, encontre todos os triângulos (3 personagens conectados entre si) no grafo."
   ],
   "id": "b98fb40a397db96"
  },
  {
   "metadata": {
    "ExecuteTime": {
     "end_time": "2025-05-12T20:51:20.179219Z",
     "start_time": "2025-05-12T20:51:19.109669Z"
    }
   },
   "cell_type": "code",
   "source": [
    "# Criando sessão\n",
    "spark = SparkSession.builder \\\n",
    "    .appName(\"GraphFrame CC\") \\\n",
    "    .config(\"spark.jars.packages\", \"graphframes:graphframes:0.8.3-spark3.4-s_2.12\") \\\n",
    "    .getOrCreate()\n",
    "\n",
    "# Lendo os vérticies e arestas\n",
    "edges = spark.read.csv(\"data/graph-1/grafo1_arestas.csv\", header=True, inferSchema=True)\n",
    "vertices = spark.read.csv(\"data/graph-1/grafo1_vertices.csv\", header=True, inferSchema=True)\n",
    "\n",
    "g = GraphFrame(vertices, edges)\n",
    "\n",
    "# Definindo uma query para bunscar um triangulo, onde V1 -> V2 -> V3 -> V1.\n",
    "triangles = g.find(\"\"\"\n",
    "    (a)-[e1]->(b);\n",
    "    (b)-[e2]->(c);\n",
    "    (c)-[e3]->(a)\n",
    "\"\"\") \\\n",
    ".filter(\"a.id != b.id AND b.id != c.id AND a.id != c.id\") \\\n",
    ".selectExpr(\n",
    "    \"a.nome AS p1\",\n",
    "    \"b.nome AS p2\",\n",
    "    \"c.nome AS p3\"\n",
    ") \\\n",
    ".distinct()\n",
    "\n",
    "# Mostrando o resultado\n",
    "triangles.show(truncate=False)\n",
    "\n",
    "# Parando a sessão\n",
    "spark.stop()"
   ],
   "id": "1159eab33e649841",
   "outputs": [
    {
     "name": "stdout",
     "output_type": "stream",
     "text": [
      "+---+---+---+\n",
      "|p1 |p2 |p3 |\n",
      "+---+---+---+\n",
      "+---+---+---+\n",
      "\n"
     ]
    }
   ],
   "execution_count": 45
  },
  {
   "metadata": {},
   "cell_type": "markdown",
   "source": [
    "Não há triangulos nos grafos. Já que seria neceesãrio uma relação R1 protege M1, M1 ẽ amigo de S1 e S1 é amigo de rick.\n",
    "Ao invẽs, vemos R1 protegendo ambos, o que desfaz o triangulo."
   ],
   "id": "4d2d7f6a17fec762"
  },
  {
   "metadata": {},
   "cell_type": "markdown",
   "source": [
    "8. Aumento de Mortys\n",
    "\n",
    "Explique:\n",
    "\n",
    "    Como o aumento de novos Mortys impactaria a estrutura da rede\n",
    "    O efeito sobre graus, componentes e rankings\n",
    "\n",
    "O aumento do número de Mortys na rede provocaria uma Distribuição de Graus maior, um número de conexões mais elevado devido à maior quantidade de novos componentes conectados, o que resultaria em uma distribuição de graus maior, além de um novo resultado em novos valores no PageRank.\n"
   ],
   "id": "d84d4098cc8bb8bc"
  },
  {
   "metadata": {},
   "cell_type": "markdown",
   "source": [
    "9. Vulnerabilidade dos Ricks (Shortest Paths)\n",
    "\n",
    "Construa o GraphFrame com os dados acima.\n",
    "\n",
    "Calcule usando shortestPaths:\n",
    "\n",
    "    A menor distância de cada Rick até o Presidente Morty;\n",
    "    Identifique qual Rick é o mais vulnerável ao controle.\n"
   ],
   "id": "ed52fef327681f30"
  },
  {
   "metadata": {
    "ExecuteTime": {
     "end_time": "2025-05-12T20:26:20.573091Z",
     "start_time": "2025-05-12T20:26:11.963380Z"
    }
   },
   "cell_type": "code",
   "source": [
    "from pyspark.sql import SparkSession\n",
    "from graphframes import GraphFrame\n",
    "from pyspark.sql.functions import col, coalesce, lit\n",
    "from pyspark.sql.functions import desc_nulls_last\n",
    "\n",
    "# Criando a sessão Spark\n",
    "spark = SparkSession.builder \\\n",
    "    .appName(\"GraphFrame9\") \\\n",
    "    .config(\"spark.jars.packages\", \"graphframes:graphframes:0.8.3-spark3.4-s_2.12\") \\\n",
    "    .getOrCreate()\n",
    "\n",
    "#lendo edges e vertices\n",
    "edges = spark.read.csv(\"data/graph-2/grafo2_arestas.csv\", header=True, inferSchema=True)\n",
    "vertices = spark.read.csv(\"data/graph-2/grafo2_vertices.csv\", header=True, inferSchema=True)\n",
    "\n",
    "#Criando um GraphFrame para maniupular os dados\n",
    "g = GraphFrame(vertices, edges)\n",
    "\n",
    "#Realizando uma query de shortestPath saindo do ponto p1 (Presidente morty)\n",
    "result = g.shortestPaths(landmarks=[\"p1\"])\n",
    "\n",
    "# Criando a variãvel equivalente a distancia do ponto p1, e a chamando \"dist_to_presidente\"\n",
    "ricks_dist = (\n",
    "    result\n",
    "      .select(\n",
    "          \"id\",\n",
    "          \"nome\",\n",
    "          coalesce(col(\"distances\")[\"p1\"], lit(None)).alias(\"dist_to_presidente\")\n",
    "      )\n",
    ")\n",
    "ricks_dist.show(truncate=False)\n",
    "\n",
    "# Fintrando pelo rick mais próximo\n",
    "\n",
    "most_vulnerable = (\n",
    "    ricks_dist\n",
    "      .orderBy(desc_nulls_last(\"dist_to_presidente\"))\n",
    "      .limit(1)\n",
    ")\n",
    "most_vulnerable.show(truncate=False)\n",
    "\n",
    "spark.stop()"
   ],
   "id": "98e00184243a80bd",
   "outputs": [
    {
     "name": "stdout",
     "output_type": "stream",
     "text": [
      "+---+----------------+\n",
      "| id|            nome|\n",
      "+---+----------------+\n",
      "| r1|      Rick C-137|\n",
      "| r2|       Rick D-99|\n",
      "| r3|       Rick X-25|\n",
      "| m1|     Morty C-137|\n",
      "| m2|      Morty D-99|\n",
      "| m3|      Morty X-25|\n",
      "| p1|Presidente Morty|\n",
      "+---+----------------+\n",
      "\n"
     ]
    },
    {
     "name": "stderr",
     "output_type": "stream",
     "text": [
      "                                                                                \r"
     ]
    },
    {
     "name": "stdout",
     "output_type": "stream",
     "text": [
      "+---+----------------+------------------+\n",
      "|id |nome            |dist_to_presidente|\n",
      "+---+----------------+------------------+\n",
      "|p1 |Presidente Morty|0                 |\n",
      "|r3 |Rick X-25       |2                 |\n",
      "|m3 |Morty X-25      |1                 |\n",
      "|m1 |Morty C-137     |1                 |\n",
      "|r2 |Rick D-99       |2                 |\n",
      "|m2 |Morty D-99      |1                 |\n",
      "|r1 |Rick C-137      |2                 |\n",
      "+---+----------------+------------------+\n",
      "\n"
     ]
    },
    {
     "name": "stderr",
     "output_type": "stream",
     "text": [
      "                                                                                \r"
     ]
    },
    {
     "name": "stdout",
     "output_type": "stream",
     "text": [
      "+---+---------+------------------+\n",
      "|id |nome     |dist_to_presidente|\n",
      "+---+---------+------------------+\n",
      "|r3 |Rick X-25|2                 |\n",
      "+---+---------+------------------+\n",
      "\n"
     ]
    }
   ],
   "execution_count": 33
  },
  {
   "metadata": {},
   "cell_type": "markdown",
   "source": [
    "    10. Ciclos de Controle na Dimensão Colapsada (SCC)\n",
    "\n",
    "    Utilize o algoritmo stronglyConnectedComponents para:\n",
    "\n",
    "        Identificar os componentes fortemente conectados;\n",
    "        Explicar o significado do ciclo entre Rick C-137, Evil Rick e Evil Morty."
   ],
   "id": "78d551619edc76c6"
  },
  {
   "metadata": {
    "ExecuteTime": {
     "end_time": "2025-05-12T21:02:25.838819Z",
     "start_time": "2025-05-12T21:01:56.626235Z"
    }
   },
   "cell_type": "code",
   "source": [
    "from pyspark.sql import SparkSession\n",
    "from graphframes import GraphFrame\n",
    "\n",
    "# Criando uma sessão de spark\n",
    "spark = SparkSession.builder \\\n",
    "    .appName(\"GraphFrameDimension\") \\\n",
    "    .config(\"spark.jars.packages\", \"graphframes:graphframes:0.8.3-spark3.4-s_2.12\") \\\n",
    "    .getOrCreate()\n",
    "\n",
    "#Lendo os vertices e arestas\n",
    "edges = spark.read.csv(\"data/graph-3/grafo3_arestas.csv\", header=True, inferSchema=True)\n",
    "vertices = spark.read.csv(\"data/graph-3/grafo3_vertices.csv\", header=True, inferSchema=True)\n",
    "\n",
    "g = GraphFrame(vertices, edges)\n",
    "\n",
    "strongComponents = g.stronglyConnectedComponents(maxIter=15)\n",
    "strongComponents.show(truncate=False)\n",
    "\n",
    "spark.stop()"
   ],
   "id": "55e5d34025412398",
   "outputs": [
    {
     "name": "stderr",
     "output_type": "stream",
     "text": [
      "                                                                                \r"
     ]
    },
    {
     "name": "stdout",
     "output_type": "stream",
     "text": [
      "+---+-----------+-------------+\n",
      "|id |nome       |component    |\n",
      "+---+-----------+-------------+\n",
      "|t1 |Tammy      |807453851648 |\n",
      "|m1 |Morty C-137|1305670057984|\n",
      "|m4 |Evil Morty |403726925824 |\n",
      "|e1 |Evil Rick  |403726925824 |\n",
      "|r1 |Rick C-137 |403726925824 |\n",
      "+---+-----------+-------------+\n",
      "\n"
     ]
    }
   ],
   "execution_count": 48
  },
  {
   "metadata": {},
   "cell_type": "markdown",
   "source": [
    "Como podemos ver, Evil Morty, Evil Rick e Rick c-137 compartilham o mesmo componente.\n",
    "\n",
    "Isso acontece, devido a ligação dos 3, onde:\n",
    "Rick c-137: suspeita do evil rick\n",
    "Evil rick: controla evil morty\n",
    "Evil morty: manipula rick c-137"
   ],
   "id": "2b94511bba7d1e23"
  }
 ],
 "metadata": {
  "kernelspec": {
   "display_name": "Python 3",
   "language": "python",
   "name": "python3"
  },
  "language_info": {
   "codemirror_mode": {
    "name": "ipython",
    "version": 2
   },
   "file_extension": ".py",
   "mimetype": "text/x-python",
   "name": "python",
   "nbconvert_exporter": "python",
   "pygments_lexer": "ipython2",
   "version": "2.7.6"
  }
 },
 "nbformat": 4,
 "nbformat_minor": 5
}
