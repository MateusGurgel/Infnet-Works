{
 "cells": [
  {
   "cell_type": "markdown",
   "id": "91d450a849b9ed44",
   "metadata": {},
   "source": [
    "# 📂 Parte 1 Análise Estática (Spark SQL + PostgreSQL + S3)"
   ]
  },
  {
   "cell_type": "markdown",
   "id": "c66e85f2c8f804d4",
   "metadata": {},
   "source": [
    "### 1 - Realize a leitura da tabela apostas do PostgreSQL e transforme a coluna timestamp corretamente."
   ]
  },
  {
   "cell_type": "code",
   "execution_count": 1,
   "id": "initial_id",
   "metadata": {
    "ExecuteTime": {
     "end_time": "2025-06-03T01:25:51.673414Z",
     "start_time": "2025-06-03T01:25:25.302843Z"
    },
    "collapsed": true,
    "jupyter": {
     "outputs_hidden": true
    }
   },
   "outputs": [
    {
     "name": "stdout",
     "output_type": "stream",
     "text": [
      ":: loading settings :: url = jar:file:/home/mateus/.local/lib/python3.10/site-packages/pyspark/jars/ivy-2.5.1.jar!/org/apache/ivy/core/settings/ivysettings.xml\n"
     ]
    },
    {
     "name": "stderr",
     "output_type": "stream",
     "text": [
      "Ivy Default Cache set to: /home/mateus/.ivy2/cache\n",
      "The jars for the packages stored in: /home/mateus/.ivy2/jars\n",
      "org.postgresql#postgresql added as a dependency\n",
      "org.postgresql#postgresql added as a dependency\n",
      "org.apache.hadoop#hadoop-aws added as a dependency\n",
      "com.amazonaws#aws-java-sdk-bundle added as a dependency\n",
      "org.apache.spark#spark-sql-kafka-0-10_2.12 added as a dependency\n",
      ":: resolving dependencies :: org.apache.spark#spark-submit-parent-81ac969b-70ab-4991-b8d8-87c512a61a2b;1.0\n",
      "\tconfs: [default]\n",
      "\tfound org.postgresql#postgresql;42.2.27 in central\n",
      "\tfound org.checkerframework#checker-qual;3.5.0 in central\n",
      "\tfound org.apache.hadoop#hadoop-aws;3.3.2 in central\n",
      "\tfound com.amazonaws#aws-java-sdk-bundle;1.11.1026 in central\n",
      "\tfound org.wildfly.openssl#wildfly-openssl;1.0.7.Final in central\n",
      "\tfound org.apache.spark#spark-sql-kafka-0-10_2.12;3.5.0 in central\n",
      "\tfound org.apache.spark#spark-token-provider-kafka-0-10_2.12;3.5.0 in central\n",
      "\tfound org.apache.kafka#kafka-clients;3.4.1 in central\n",
      "\tfound org.lz4#lz4-java;1.8.0 in central\n",
      "\tfound org.xerial.snappy#snappy-java;1.1.10.3 in central\n",
      "\tfound org.slf4j#slf4j-api;2.0.7 in central\n",
      "\tfound org.apache.hadoop#hadoop-client-runtime;3.3.4 in central\n",
      "\tfound org.apache.hadoop#hadoop-client-api;3.3.4 in central\n",
      "\tfound commons-logging#commons-logging;1.1.3 in central\n",
      "\tfound com.google.code.findbugs#jsr305;3.0.0 in central\n",
      "\tfound org.apache.commons#commons-pool2;2.11.1 in central\n",
      ":: resolution report :: resolve 1838ms :: artifacts dl 68ms\n",
      "\t:: modules in use:\n",
      "\tcom.amazonaws#aws-java-sdk-bundle;1.11.1026 from central in [default]\n",
      "\tcom.google.code.findbugs#jsr305;3.0.0 from central in [default]\n",
      "\tcommons-logging#commons-logging;1.1.3 from central in [default]\n",
      "\torg.apache.commons#commons-pool2;2.11.1 from central in [default]\n",
      "\torg.apache.hadoop#hadoop-aws;3.3.2 from central in [default]\n",
      "\torg.apache.hadoop#hadoop-client-api;3.3.4 from central in [default]\n",
      "\torg.apache.hadoop#hadoop-client-runtime;3.3.4 from central in [default]\n",
      "\torg.apache.kafka#kafka-clients;3.4.1 from central in [default]\n",
      "\torg.apache.spark#spark-sql-kafka-0-10_2.12;3.5.0 from central in [default]\n",
      "\torg.apache.spark#spark-token-provider-kafka-0-10_2.12;3.5.0 from central in [default]\n",
      "\torg.checkerframework#checker-qual;3.5.0 from central in [default]\n",
      "\torg.lz4#lz4-java;1.8.0 from central in [default]\n",
      "\torg.postgresql#postgresql;42.2.27 from central in [default]\n",
      "\torg.slf4j#slf4j-api;2.0.7 from central in [default]\n",
      "\torg.wildfly.openssl#wildfly-openssl;1.0.7.Final from central in [default]\n",
      "\torg.xerial.snappy#snappy-java;1.1.10.3 from central in [default]\n",
      "\t---------------------------------------------------------------------\n",
      "\t|                  |            modules            ||   artifacts   |\n",
      "\t|       conf       | number| search|dwnlded|evicted|| number|dwnlded|\n",
      "\t---------------------------------------------------------------------\n",
      "\t|      default     |   16  |   0   |   0   |   0   ||   16  |   0   |\n",
      "\t---------------------------------------------------------------------\n",
      ":: retrieving :: org.apache.spark#spark-submit-parent-81ac969b-70ab-4991-b8d8-87c512a61a2b\n",
      "\tconfs: [default]\n",
      "\t0 artifacts copied, 16 already retrieved (0kB/36ms)\n",
      "25/06/02 22:25:32 WARN NativeCodeLoader: Unable to load native-hadoop library for your platform... using builtin-java classes where applicable\n",
      "Setting default log level to \"WARN\".\n",
      "To adjust logging level use sc.setLogLevel(newLevel). For SparkR, use setLogLevel(newLevel).\n"
     ]
    },
    {
     "name": "stdout",
     "output_type": "stream",
     "text": [
      "root\n",
      " |-- aposta_id: string (nullable = true)\n",
      " |-- apostador_id: string (nullable = true)\n",
      " |-- jogo_id: string (nullable = true)\n",
      " |-- valor: decimal(38,18) (nullable = true)\n",
      " |-- odd: decimal(38,18) (nullable = true)\n",
      " |-- timestamp: timestamp (nullable = true)\n",
      " |-- resultado: string (nullable = true)\n",
      "\n"
     ]
    },
    {
     "name": "stderr",
     "output_type": "stream",
     "text": [
      "                                                                                \r"
     ]
    },
    {
     "name": "stdout",
     "output_type": "stream",
     "text": [
      "+---------+------------+-------+--------------------+--------------------+-------------------+---------+\n",
      "|aposta_id|apostador_id|jogo_id|               valor|                 odd|          timestamp|resultado|\n",
      "+---------+------------+-------+--------------------+--------------------+-------------------+---------+\n",
      "| b61f4f08|         u79| jogo31|1813.570000000000...|4.490000000000000000|2025-01-05 15:42:00|   perdeu|\n",
      "| 88c44f52|         u23| jogo33|830.6000000000000...|2.870000000000000000|2025-01-05 09:54:00| pendente|\n",
      "| 4c32051c|         u72| jogo72|1829.920000000000...|2.090000000000000000|2025-01-03 23:34:00| pendente|\n",
      "| 1baa492c|         u70| jogo67|1614.200000000000...|4.210000000000000000|2025-01-04 16:50:00|   perdeu|\n",
      "| 2820b7bb|         u40| jogo50|989.7300000000000...|2.980000000000000000|2025-01-02 20:37:00|   perdeu|\n",
      "| 9f953950|         u10| jogo66|1786.550000000000...|3.300000000000000000|2025-01-04 13:58:00|   perdeu|\n",
      "| 1549ba26|         u95| jogo42|683.4800000000000...|3.220000000000000000|2025-01-08 01:18:00|   perdeu|\n",
      "| 029f146f|         u71|  jogo2|1239.370000000000...|4.330000000000000000|2025-01-06 06:19:00|   ganhou|\n",
      "| 4b389fb4|         u51| jogo52|1488.510000000000...|2.060000000000000000|2025-01-02 00:53:00| pendente|\n",
      "| 4171ddaf|         u46| jogo52|401.4100000000000...|4.620000000000000000|2025-01-06 04:19:00| pendente|\n",
      "+---------+------------+-------+--------------------+--------------------+-------------------+---------+\n",
      "only showing top 10 rows\n",
      "\n"
     ]
    }
   ],
   "source": [
    "from pyspark.sql.functions import to_timestamp\n",
    "from pyspark.sql import SparkSession\n",
    "\n",
    "spark = SparkSession.builder \\\n",
    "    .appName(\"Leitura PostgreSQL\") \\\n",
    "    .config(\"spark.jars.packages\", \"org.postgresql:postgresql:42.2.27,org.postgresql:postgresql:42.2.27,org.apache.hadoop:hadoop-aws:3.3.2,com.amazonaws:aws-java-sdk-bundle:1.11.1026,org.apache.spark:spark-sql-kafka-0-10_2.12:3.5.0\") \\\n",
    "    .getOrCreate()\n",
    "\n",
    "url = \"jdbc:postgresql://localhost:5432/betalert\"\n",
    "properties = {\n",
    "    \"user\": \"admin\",\n",
    "    \"password\": \"admin\",\n",
    "    \"driver\": \"org.postgresql.Driver\"\n",
    "}\n",
    "\n",
    "table = \"apostas\"\n",
    "\n",
    "df = spark.read.jdbc(url=url, table=table, properties=properties)\n",
    "\n",
    "# convertendo a data timestamp de string para timestamp\n",
    "df = df.withColumn(\"timestamp\", to_timestamp(\"timestamp\", \"yyyy-MM-dd HH:mm:ss\"))\n",
    "\n",
    "df.printSchema()\n",
    "df.show(10)\n",
    "spark.stop()\n"
   ]
  },
  {
   "cell_type": "markdown",
   "id": "e13efc12988e4c0d",
   "metadata": {},
   "source": [
    "### 2 - Realize a leitura da tabela transacoes_financeiras e normalize o nome da coluna de valor."
   ]
  },
  {
   "cell_type": "code",
   "execution_count": 2,
   "id": "b8efd671d2627221",
   "metadata": {
    "ExecuteTime": {
     "end_time": "2025-06-03T01:25:57.309277Z",
     "start_time": "2025-06-03T01:25:52.451352Z"
    }
   },
   "outputs": [
    {
     "name": "stdout",
     "output_type": "stream",
     "text": [
      "root\n",
      " |-- id: integer (nullable = true)\n",
      " |-- apostador_id: string (nullable = true)\n",
      " |-- valor: decimal(10,2) (nullable = true)\n",
      " |-- tipo: string (nullable = true)\n",
      " |-- data: timestamp (nullable = true)\n",
      "\n"
     ]
    },
    {
     "name": "stderr",
     "output_type": "stream",
     "text": [
      "                                                                                \r"
     ]
    },
    {
     "name": "stdout",
     "output_type": "stream",
     "text": [
      "+---+------------+--------+--------+-------------------+\n",
      "| id|apostador_id|   valor|    tipo|               data|\n",
      "+---+------------+--------+--------+-------------------+\n",
      "|  1|         u69|14890.81|deposito|2025-01-01 10:00:00|\n",
      "|  2|         u94| 5616.48|deposito|2025-01-01 10:01:00|\n",
      "|  3|         u95|16376.42|   saque|2025-01-01 10:02:00|\n",
      "|  4|         u11|15335.80|deposito|2025-01-01 10:03:00|\n",
      "|  5|         u88|19559.30|   saque|2025-01-01 10:04:00|\n",
      "|  6|         u32| 4797.95|deposito|2025-01-01 10:05:00|\n",
      "|  7|         u14| 1494.86|   saque|2025-01-01 10:06:00|\n",
      "|  8|         u23|15609.39|deposito|2025-01-01 10:07:00|\n",
      "|  9|          u8|14916.72|deposito|2025-01-01 10:08:00|\n",
      "| 10|         u92|12104.17|   saque|2025-01-01 10:09:00|\n",
      "+---+------------+--------+--------+-------------------+\n",
      "only showing top 10 rows\n",
      "\n"
     ]
    }
   ],
   "source": [
    "from pyspark.sql.types import DecimalType\n",
    "from pyspark.sql import SparkSession\n",
    "from pyspark.sql.functions import round, col\n",
    "\n",
    "spark = SparkSession.builder \\\n",
    "    .appName(\"Leitura PostgreSQL\") \\\n",
    "    .config(\"spark.jars.packages\", \"org.postgresql:postgresql:42.2.27\") \\\n",
    "    .getOrCreate()\n",
    "\n",
    "url = \"jdbc:postgresql://localhost:5432/betalert\"\n",
    "properties = {\n",
    "    \"user\": \"admin\",\n",
    "    \"password\": \"admin\",\n",
    "    \"driver\": \"org.postgresql.Driver\"\n",
    "}\n",
    "\n",
    "table = \"transacoes_financeiras\"\n",
    "\n",
    "df = spark.read.jdbc(url=url, table=table, properties=properties)\n",
    "\n",
    "# convertendo a coluna para manter só dois valores decimais, mas sem arredondamento para manter o valor real\n",
    "df = df.withColumn(\"valor\", col(\"valor\").cast(DecimalType(10, 2)))\n",
    "\n",
    "df.printSchema()\n",
    "df.show(10)\n",
    "spark.stop()\n"
   ]
  },
  {
   "cell_type": "markdown",
   "id": "9aeeb65f3a511be",
   "metadata": {},
   "source": [
    "### 3 - Faça o join entre apostas e o arquivo apostadores.csv do S3 para incluir o país e dados extras."
   ]
  },
  {
   "cell_type": "code",
   "execution_count": 3,
   "id": "fda90dd039e980f3",
   "metadata": {
    "ExecuteTime": {
     "end_time": "2025-06-03T01:26:09.842828Z",
     "start_time": "2025-06-03T01:25:59.058270Z"
    }
   },
   "outputs": [
    {
     "name": "stderr",
     "output_type": "stream",
     "text": [
      "25/06/02 22:26:02 WARN MetricsConfig: Cannot locate configuration: tried hadoop-metrics2-s3a-file-system.properties,hadoop-metrics2.properties\n"
     ]
    },
    {
     "name": "stdout",
     "output_type": "stream",
     "text": [
      "+---+------------+--------------------+--------+-------------------+---------+-------+--------------------+--------------------+-------------------+---------+----------+--------------------+----+\n",
      "| id|apostador_id|   transaction_valor|    tipo|               data|aposta_id|jogo_id|           bet_valor|                 odd|          timestamp|resultado|      nome|               email|pais|\n",
      "+---+------------+--------------------+--------+-------------------+---------+-------+--------------------+--------------------+-------------------+---------+----------+--------------------+----+\n",
      "|411|         u42|12961.78000000000...|deposito|2025-01-01 16:50:00| be7645ac|  jogo2|1776.830000000000...|4.700000000000000000|2025-01-03 11:29:00| pendente|Jogador 42|jogador42@exemplo...|  ES|\n",
      "|403|         u42|3849.670000000000...|deposito|2025-01-01 16:42:00| be7645ac|  jogo2|1776.830000000000...|4.700000000000000000|2025-01-03 11:29:00| pendente|Jogador 42|jogador42@exemplo...|  ES|\n",
      "|277|         u42|1351.900000000000...|deposito|2025-01-01 14:36:00| be7645ac|  jogo2|1776.830000000000...|4.700000000000000000|2025-01-03 11:29:00| pendente|Jogador 42|jogador42@exemplo...|  ES|\n",
      "|237|         u42|5012.580000000000...|deposito|2025-01-01 13:56:00| be7645ac|  jogo2|1776.830000000000...|4.700000000000000000|2025-01-03 11:29:00| pendente|Jogador 42|jogador42@exemplo...|  ES|\n",
      "|207|         u42|9855.530000000000...|deposito|2025-01-01 13:26:00| be7645ac|  jogo2|1776.830000000000...|4.700000000000000000|2025-01-03 11:29:00| pendente|Jogador 42|jogador42@exemplo...|  ES|\n",
      "|144|         u42|8355.710000000000...|   saque|2025-01-01 12:23:00| be7645ac|  jogo2|1776.830000000000...|4.700000000000000000|2025-01-03 11:29:00| pendente|Jogador 42|jogador42@exemplo...|  ES|\n",
      "| 31|         u42|1052.520000000000...|deposito|2025-01-01 10:30:00| be7645ac|  jogo2|1776.830000000000...|4.700000000000000000|2025-01-03 11:29:00| pendente|Jogador 42|jogador42@exemplo...|  ES|\n",
      "|411|         u42|12961.78000000000...|deposito|2025-01-01 16:50:00| 294036ab| jogo47|61.46000000000000...|2.150000000000000000|2025-01-07 16:19:00|   perdeu|Jogador 42|jogador42@exemplo...|  ES|\n",
      "|403|         u42|3849.670000000000...|deposito|2025-01-01 16:42:00| 294036ab| jogo47|61.46000000000000...|2.150000000000000000|2025-01-07 16:19:00|   perdeu|Jogador 42|jogador42@exemplo...|  ES|\n",
      "|277|         u42|1351.900000000000...|deposito|2025-01-01 14:36:00| 294036ab| jogo47|61.46000000000000...|2.150000000000000000|2025-01-07 16:19:00|   perdeu|Jogador 42|jogador42@exemplo...|  ES|\n",
      "+---+------------+--------------------+--------+-------------------+---------+-------+--------------------+--------------------+-------------------+---------+----------+--------------------+----+\n",
      "only showing top 10 rows\n",
      "\n"
     ]
    }
   ],
   "source": [
    "from pyspark.sql import SparkSession\n",
    "\n",
    "spark = SparkSession.builder \\\n",
    "    .appName(\"Leitura PostgreSQL\") \\\n",
    "    .config(\"spark.hadoop.fs.s3a.access.key\", \"admin\") \\\n",
    "    .config(\"spark.hadoop.fs.s3a.secret.key\", \"admin123\") \\\n",
    "    .config(\"spark.hadoop.fs.s3a.endpoint\", \"http://localhost:9000\") \\\n",
    "    .config(\"spark.hadoop.fs.s3a.impl\", \"org.apache.hadoop.fs.s3a.S3AFileSystem\") \\\n",
    "    .config(\"spark.hadoop.fs.s3a.path.style.access\", \"true\") \\\n",
    "    .config(\"spark.hadoop.fs.s3a.connection.ssl.enabled\", \"false\") \\\n",
    "    .getOrCreate()\n",
    "\n",
    "url = \"jdbc:postgresql://localhost:5432/betalert\"\n",
    "properties = {\n",
    "    \"user\": \"admin\",\n",
    "    \"password\": \"admin\",\n",
    "    \"driver\": \"org.postgresql.Driver\"\n",
    "}\n",
    "\n",
    "# Em tese, o join faz uma combinação de cada saque por aposta, então seria necessário só comparar\n",
    "# as diferenças entre saque e depósito.\n",
    "\n",
    "transactions = spark.read.jdbc(url=url, table=\"transacoes_financeiras\", properties=properties)\n",
    "bets = spark.read.jdbc(url=url, table=\"apostas\", properties=properties)\n",
    "\n",
    "apostadores = spark.read.csv(\"s3a://betalogs/apostadores.csv\", header=True, inferSchema=True)\n",
    "\n",
    "# Renomeando as colunas para facilitar os joins\n",
    "\n",
    "bets = bets.withColumnRenamed(\"valor\", \"bet_valor\")\n",
    "transactions = transactions.withColumnRenamed(\"valor\", \"transaction_valor\")\n",
    "\n",
    "bets = bets.withColumnRenamed(\"pais\", \"pais_bet\")\n",
    "transactions = transactions.withColumnRenamed(\"pais\", \"pais_transacao\")\n",
    "\n",
    "# bets -> transactions\n",
    "\n",
    "bets_transactions = transactions.join(\n",
    "    bets, transactions.apostador_id == bets.apostador_id, \"inner\"\n",
    ").drop(bets[\"apostador_id\"])\n",
    "\n",
    "# bets -> transactions -> better\n",
    "\n",
    "resultado_final = bets_transactions.join(\n",
    "    apostadores, bets_transactions.apostador_id == apostadores.id, \"inner\"\n",
    ").drop(apostadores[\"id\"])\n",
    "\n",
    "resultado_final.show(10)\n"
   ]
  },
  {
   "cell_type": "markdown",
   "id": "5241fc55c8ff6206",
   "metadata": {},
   "source": [
    "# 🔍 Parte 2 Detecção de Padrões"
   ]
  },
  {
   "cell_type": "markdown",
   "id": "8848aa37808b7880",
   "metadata": {},
   "source": [
    "Observando se uma aposta é Flash por meio da subtração de duas time stamps em unix (segundos desde 1970)"
   ]
  },
  {
   "cell_type": "code",
   "execution_count": 4,
   "id": "9c0a5db45f833b98",
   "metadata": {
    "ExecuteTime": {
     "end_time": "2025-06-03T01:26:12.344866Z",
     "start_time": "2025-06-03T01:26:10.825948Z"
    }
   },
   "outputs": [
    {
     "name": "stdout",
     "output_type": "stream",
     "text": [
      "+---+------------+--------------------+--------+-------------------+---------+-------+--------------------+--------------------+-------------------+---------+----------+--------------------+----+\n",
      "| id|apostador_id|   transaction_valor|    tipo|               data|aposta_id|jogo_id|           bet_valor|                 odd|          timestamp|resultado|      nome|               email|pais|\n",
      "+---+------------+--------------------+--------+-------------------+---------+-------+--------------------+--------------------+-------------------+---------+----------+--------------------+----+\n",
      "|505|         u73|15000.00000000000...|deposito|2025-01-11 20:04:00| db280beb|  jogo3|15000.00000000000...|24.54000000000000...|2025-01-11 20:04:07|   ganhou|Jogador 73|jogador73@exemplo...|  ES|\n",
      "|510|         u66|15000.00000000000...|deposito|2025-01-11 20:09:00| 0c7defda|  jogo6|15000.00000000000...|12.23000000000000...|2025-01-11 20:09:09|   ganhou|Jogador 66|jogador66@exemplo...|  AR|\n",
      "|173|         u19|8595.740000000000...|deposito|2025-01-01 12:52:00| df00489c| jogo95|574.7100000000000...|2.600000000000000000|2025-01-01 12:52:00|   ganhou|Jogador 19|jogador19@exemplo...|  BR|\n",
      "|508|         u99|15000.00000000000...|deposito|2025-01-11 20:07:00| dbf3315b| jogo16|15000.00000000000...|11.54000000000000...|2025-01-11 20:07:03|   ganhou|Jogador 99|jogador99@exemplo...|  AR|\n",
      "|504|         u58|15000.00000000000...|deposito|2025-01-11 20:03:00| 34c39892| jogo60|15000.00000000000...|11.54000000000000...|2025-01-11 20:03:09|   ganhou|Jogador 58|jogador58@exemplo...|  BR|\n",
      "|509|         u11|15000.00000000000...|deposito|2025-01-11 20:08:00| 727a0ad2| jogo39|15000.00000000000...|21.33000000000000...|2025-01-11 20:08:07|   ganhou|Jogador 11|jogador11@exemplo...|  BR|\n",
      "|502|         u33|15000.00000000000...|deposito|2025-01-11 20:01:00| d6002cae| jogo95|15000.00000000000...|14.60000000000000...|2025-01-11 20:01:01|   ganhou|Jogador 33|jogador33@exemplo...|  ES|\n",
      "|503|         u41|15000.00000000000...|deposito|2025-01-11 20:02:00| 066f9055| jogo71|15000.00000000000...|16.46000000000000...|2025-01-11 20:02:09|   ganhou|Jogador 41|jogador41@exemplo...|  ES|\n",
      "|501|         u17|15000.00000000000...|deposito|2025-01-11 20:00:00| 5b0e994f|  jogo8|15000.00000000000...|15.32000000000000...|2025-01-11 20:00:02|   ganhou|Jogador 17|jogador17@exemplo...|  FR|\n",
      "|506|         u88|15000.00000000000...|deposito|2025-01-11 20:05:00| 59c22669| jogo78|15000.00000000000...|17.90000000000000...|2025-01-11 20:05:08|   ganhou|Jogador 88|jogador88@exemplo...|  ES|\n",
      "|507|         u95|15000.00000000000...|deposito|2025-01-11 20:06:00| df1619c3| jogo25|15000.00000000000...|13.44000000000000...|2025-01-11 20:06:09|   ganhou|Jogador 95|jogador95@exemplo...|  ES|\n",
      "+---+------------+--------------------+--------+-------------------+---------+-------+--------------------+--------------------+-------------------+---------+----------+--------------------+----+\n",
      "\n"
     ]
    }
   ],
   "source": [
    "from pyspark.sql.functions import unix_timestamp, abs\n",
    "\n",
    "deposits = resultado_final.where(resultado_final.tipo == \"deposito\")\n",
    "\n",
    "# depositos onde a diferença entre data e timestamp é menor que 10 segundos\n",
    "flash_deposits = deposits.where(\n",
    "    abs(unix_timestamp(\"data\") - unix_timestamp(\"timestamp\")) < 10\n",
    ")\n",
    "\n",
    "flash_deposits.show(20)"
   ]
  },
  {
   "cell_type": "markdown",
   "id": "86454504119c02d5",
   "metadata": {},
   "source": [
    "Exiba apostas-relâmpago com valor acima de R$500."
   ]
  },
  {
   "cell_type": "code",
   "execution_count": 5,
   "id": "4983c861f9bb26a5",
   "metadata": {
    "ExecuteTime": {
     "end_time": "2025-06-03T01:26:13.782015Z",
     "start_time": "2025-06-03T01:26:12.565918Z"
    }
   },
   "outputs": [
    {
     "name": "stdout",
     "output_type": "stream",
     "text": [
      "+---+------------+--------------------+--------+-------------------+---------+-------+--------------------+--------------------+-------------------+---------+----------+--------------------+----+\n",
      "| id|apostador_id|   transaction_valor|    tipo|               data|aposta_id|jogo_id|           bet_valor|                 odd|          timestamp|resultado|      nome|               email|pais|\n",
      "+---+------------+--------------------+--------+-------------------+---------+-------+--------------------+--------------------+-------------------+---------+----------+--------------------+----+\n",
      "|505|         u73|15000.00000000000...|deposito|2025-01-11 20:04:00| db280beb|  jogo3|15000.00000000000...|24.54000000000000...|2025-01-11 20:04:07|   ganhou|Jogador 73|jogador73@exemplo...|  ES|\n",
      "|510|         u66|15000.00000000000...|deposito|2025-01-11 20:09:00| 0c7defda|  jogo6|15000.00000000000...|12.23000000000000...|2025-01-11 20:09:09|   ganhou|Jogador 66|jogador66@exemplo...|  AR|\n",
      "|173|         u19|8595.740000000000...|deposito|2025-01-01 12:52:00| df00489c| jogo95|574.7100000000000...|2.600000000000000000|2025-01-01 12:52:00|   ganhou|Jogador 19|jogador19@exemplo...|  BR|\n",
      "|508|         u99|15000.00000000000...|deposito|2025-01-11 20:07:00| dbf3315b| jogo16|15000.00000000000...|11.54000000000000...|2025-01-11 20:07:03|   ganhou|Jogador 99|jogador99@exemplo...|  AR|\n",
      "|504|         u58|15000.00000000000...|deposito|2025-01-11 20:03:00| 34c39892| jogo60|15000.00000000000...|11.54000000000000...|2025-01-11 20:03:09|   ganhou|Jogador 58|jogador58@exemplo...|  BR|\n",
      "|509|         u11|15000.00000000000...|deposito|2025-01-11 20:08:00| 727a0ad2| jogo39|15000.00000000000...|21.33000000000000...|2025-01-11 20:08:07|   ganhou|Jogador 11|jogador11@exemplo...|  BR|\n",
      "|502|         u33|15000.00000000000...|deposito|2025-01-11 20:01:00| d6002cae| jogo95|15000.00000000000...|14.60000000000000...|2025-01-11 20:01:01|   ganhou|Jogador 33|jogador33@exemplo...|  ES|\n",
      "|503|         u41|15000.00000000000...|deposito|2025-01-11 20:02:00| 066f9055| jogo71|15000.00000000000...|16.46000000000000...|2025-01-11 20:02:09|   ganhou|Jogador 41|jogador41@exemplo...|  ES|\n",
      "|501|         u17|15000.00000000000...|deposito|2025-01-11 20:00:00| 5b0e994f|  jogo8|15000.00000000000...|15.32000000000000...|2025-01-11 20:00:02|   ganhou|Jogador 17|jogador17@exemplo...|  FR|\n",
      "|506|         u88|15000.00000000000...|deposito|2025-01-11 20:05:00| 59c22669| jogo78|15000.00000000000...|17.90000000000000...|2025-01-11 20:05:08|   ganhou|Jogador 88|jogador88@exemplo...|  ES|\n",
      "|507|         u95|15000.00000000000...|deposito|2025-01-11 20:06:00| df1619c3| jogo25|15000.00000000000...|13.44000000000000...|2025-01-11 20:06:09|   ganhou|Jogador 95|jogador95@exemplo...|  ES|\n",
      "+---+------------+--------------------+--------+-------------------+---------+-------+--------------------+--------------------+-------------------+---------+----------+--------------------+----+\n",
      "\n"
     ]
    }
   ],
   "source": [
    "gt_500_flash_deposits = flash_deposits.where(flash_deposits.bet_valor > 500)\n",
    "gt_500_flash_deposits.show(20)"
   ]
  },
  {
   "cell_type": "markdown",
   "id": "e28085424fdc8a7c",
   "metadata": {},
   "source": [
    "Exiba apostas-relâmpago com valor acima de R$10.000."
   ]
  },
  {
   "cell_type": "code",
   "execution_count": 6,
   "id": "4039d753b0aec6a",
   "metadata": {
    "ExecuteTime": {
     "end_time": "2025-06-03T01:26:14.931251Z",
     "start_time": "2025-06-03T01:26:14.030836Z"
    }
   },
   "outputs": [
    {
     "name": "stdout",
     "output_type": "stream",
     "text": [
      "+---+------------+--------------------+--------+-------------------+---------+-------+--------------------+--------------------+-------------------+---------+----------+--------------------+----+\n",
      "| id|apostador_id|   transaction_valor|    tipo|               data|aposta_id|jogo_id|           bet_valor|                 odd|          timestamp|resultado|      nome|               email|pais|\n",
      "+---+------------+--------------------+--------+-------------------+---------+-------+--------------------+--------------------+-------------------+---------+----------+--------------------+----+\n",
      "|505|         u73|15000.00000000000...|deposito|2025-01-11 20:04:00| db280beb|  jogo3|15000.00000000000...|24.54000000000000...|2025-01-11 20:04:07|   ganhou|Jogador 73|jogador73@exemplo...|  ES|\n",
      "|510|         u66|15000.00000000000...|deposito|2025-01-11 20:09:00| 0c7defda|  jogo6|15000.00000000000...|12.23000000000000...|2025-01-11 20:09:09|   ganhou|Jogador 66|jogador66@exemplo...|  AR|\n",
      "|508|         u99|15000.00000000000...|deposito|2025-01-11 20:07:00| dbf3315b| jogo16|15000.00000000000...|11.54000000000000...|2025-01-11 20:07:03|   ganhou|Jogador 99|jogador99@exemplo...|  AR|\n",
      "|504|         u58|15000.00000000000...|deposito|2025-01-11 20:03:00| 34c39892| jogo60|15000.00000000000...|11.54000000000000...|2025-01-11 20:03:09|   ganhou|Jogador 58|jogador58@exemplo...|  BR|\n",
      "|509|         u11|15000.00000000000...|deposito|2025-01-11 20:08:00| 727a0ad2| jogo39|15000.00000000000...|21.33000000000000...|2025-01-11 20:08:07|   ganhou|Jogador 11|jogador11@exemplo...|  BR|\n",
      "|502|         u33|15000.00000000000...|deposito|2025-01-11 20:01:00| d6002cae| jogo95|15000.00000000000...|14.60000000000000...|2025-01-11 20:01:01|   ganhou|Jogador 33|jogador33@exemplo...|  ES|\n",
      "|503|         u41|15000.00000000000...|deposito|2025-01-11 20:02:00| 066f9055| jogo71|15000.00000000000...|16.46000000000000...|2025-01-11 20:02:09|   ganhou|Jogador 41|jogador41@exemplo...|  ES|\n",
      "|501|         u17|15000.00000000000...|deposito|2025-01-11 20:00:00| 5b0e994f|  jogo8|15000.00000000000...|15.32000000000000...|2025-01-11 20:00:02|   ganhou|Jogador 17|jogador17@exemplo...|  FR|\n",
      "|506|         u88|15000.00000000000...|deposito|2025-01-11 20:05:00| 59c22669| jogo78|15000.00000000000...|17.90000000000000...|2025-01-11 20:05:08|   ganhou|Jogador 88|jogador88@exemplo...|  ES|\n",
      "|507|         u95|15000.00000000000...|deposito|2025-01-11 20:06:00| df1619c3| jogo25|15000.00000000000...|13.44000000000000...|2025-01-11 20:06:09|   ganhou|Jogador 95|jogador95@exemplo...|  ES|\n",
      "+---+------------+--------------------+--------+-------------------+---------+-------+--------------------+--------------------+-------------------+---------+----------+--------------------+----+\n",
      "\n"
     ]
    }
   ],
   "source": [
    "gt_10000_flash_deposits = flash_deposits.where(flash_deposits.bet_valor > 10000)\n",
    "gt_10000_flash_deposits.show()"
   ]
  },
  {
   "cell_type": "markdown",
   "id": "ad6b7a202c5bf19a",
   "metadata": {},
   "source": [
    "Detecte jogadores que realizaram 10 ou mais apostas em um mesmo jogo."
   ]
  },
  {
   "cell_type": "code",
   "execution_count": 7,
   "id": "1568ee90c91dbeaf",
   "metadata": {
    "ExecuteTime": {
     "end_time": "2025-06-03T01:26:16.844396Z",
     "start_time": "2025-06-03T01:26:15.170432Z"
    }
   },
   "outputs": [
    {
     "name": "stdout",
     "output_type": "stream",
     "text": [
      "+------------+-------+-----------+\n",
      "|apostador_id|jogo_id|num_apostas|\n",
      "+------------+-------+-----------+\n",
      "|         u88| jogo77|         13|\n",
      "+------------+-------+-----------+\n",
      "\n"
     ]
    }
   ],
   "source": [
    "from pyspark.sql.functions import count\n",
    "\n",
    "heavy_bettors = bets.groupBy(\"apostador_id\", \"jogo_id\") \\\n",
    "    .agg(count(\"*\").alias(\"num_apostas\")) \\\n",
    "    .where(col(\"num_apostas\") >= 10)\n",
    "\n",
    "heavy_bettors.show()"
   ]
  },
  {
   "cell_type": "markdown",
   "id": "bf61a10dc5c99074",
   "metadata": {},
   "source": [
    "Exiba o total e a média de valores apostados por país."
   ]
  },
  {
   "cell_type": "code",
   "execution_count": 8,
   "id": "746857c6e2accadd",
   "metadata": {
    "ExecuteTime": {
     "end_time": "2025-06-03T01:26:20.127310Z",
     "start_time": "2025-06-03T01:26:17.079551Z"
    }
   },
   "outputs": [
    {
     "name": "stderr",
     "output_type": "stream",
     "text": [
      "                                                                                \r"
     ]
    },
    {
     "name": "stdout",
     "output_type": "stream",
     "text": [
      "+----+--------------------+--------------------+\n",
      "|pais|      total_apostado|      media_apostada|\n",
      "+----+--------------------+--------------------+\n",
      "|  PT|3343853.040000000...|1029.511403940886...|\n",
      "|  BR|5107855.500000000...|1078.744561774023...|\n",
      "|  ES|7238634.930000000...|1082.169970100164...|\n",
      "|  FR|6773318.370000000...|1025.017913135593...|\n",
      "|  AR|4756412.960000000...|1100.512022211938...|\n",
      "+----+--------------------+--------------------+\n",
      "\n"
     ]
    }
   ],
   "source": [
    "from pyspark.sql.functions import sum, avg\n",
    "\n",
    "bets_by_country = resultado_final.groupBy(\"pais\").agg(\n",
    "    sum(\"bet_valor\").alias(\"total_apostado\"),\n",
    "    avg(\"bet_valor\").alias(\"media_apostada\")\n",
    ")\n",
    "\n",
    "bets_by_country.show()\n",
    "\n",
    "spark.stop()\n"
   ]
  },
  {
   "cell_type": "markdown",
   "id": "88b6ff9da500de2a",
   "metadata": {},
   "source": [
    "# 📡 Parte 3 Streaming em Tempo Real (Kafka + Spark Structured Streaming)\n"
   ]
  },
  {
   "cell_type": "markdown",
   "id": "da2ea47387145195",
   "metadata": {},
   "source": [
    "Modifiquei pesadamente o docker compose para conseguir usar o jupyter notebook no projeto. Extrai os scripts em python da imagem, e removi a network do docker compose, mapeando todas as portas na minha máquina, já que não foi possível consumir o kafka na rede virtual do docker"
   ]
  },
  {
   "cell_type": "code",
   "execution_count": 25,
   "id": "4f6d5b5876bd2d95",
   "metadata": {
    "ExecuteTime": {
     "end_time": "2025-06-03T02:15:43.632204Z",
     "start_time": "2025-06-03T01:59:32.619419Z"
    }
   },
   "outputs": [
    {
     "name": "stderr",
     "output_type": "stream",
     "text": [
      "25/06/02 22:59:33 WARN ResolveWriteToStream: Temporary checkpoint location created which is deleted normally when the query didn't fail: /tmp/temporary-2e1a2f6c-cddf-4d1f-9b4f-0d033339c045. If it's required to delete it under any circumstances, please set spark.sql.streaming.forceDeleteTempCheckpointLocation to true. Important to know deleting temp checkpoint folder is best effort.\n",
      "25/06/02 22:59:33 WARN ResolveWriteToStream: spark.sql.adaptive.enabled is not supported in streaming DataFrames/Datasets and will be disabled.\n",
      "25/06/02 22:59:33 WARN AdminClientConfig: These configurations '[key.deserializer, value.deserializer, enable.auto.commit, max.poll.records, auto.offset.reset]' were supplied but are not used yet.\n",
      "                                                                                \r"
     ]
    },
    {
     "name": "stdout",
     "output_type": "stream",
     "text": [
      "-------------------------------------------\n",
      "Batch: 0\n",
      "-------------------------------------------\n",
      "+----+----------+---------------+----------+\n",
      "|pais|avg_amount|suspicious_bets|total_bets|\n",
      "+----+----------+---------------+----------+\n",
      "+----+----------+---------------+----------+\n",
      "\n",
      "-------------------------------------------\n",
      "Batch: 34\n",
      "-------------------------------------------\n",
      "+---------+------------+-------+--------+-----+--------------------------+----+-----------+----------------------+----+--------+\n",
      "|aposta_id|apostador_id|jogo_id|valor   |odd  |timestamp                 |id  |nome       |email                 |pais|suspeita|\n",
      "+---------+------------+-------+--------+-----+--------------------------+----+-----------+----------------------+----+--------+\n",
      "|9ed420dd |u30         |jogo76 |1458.48 |9.73 |2025-06-03 01:59:00.564999|u30 |Jogador 30 |jogador30@exemplo.com |BR  |false   |\n",
      "|d72c5d1d |u57         |jogo55 |2412.9  |2.74 |2025-06-03 01:59:00.571436|u57 |Jogador 57 |jogador57@exemplo.com |PT  |false   |\n",
      "|1b90097a |u99         |jogo66 |1482.36 |3.81 |2025-06-03 01:59:03.414183|u99 |Jogador 99 |jogador99@exemplo.com |AR  |false   |\n",
      "|18f3930e |u63         |jogo3  |379.41  |2.99 |2025-06-03 01:59:03.417509|u63 |Jogador 63 |jogador63@exemplo.com |BR  |false   |\n",
      "|a5a0aa57 |u85         |jogo12 |200.45  |8.14 |2025-06-03 01:59:03.42109 |u85 |Jogador 85 |jogador85@exemplo.com |BR  |false   |\n",
      "|cf32f11e |u13         |jogo24 |3285.85 |8.73 |2025-06-03 01:59:04.720019|u13 |Jogador 13 |jogador13@exemplo.com |ES  |false   |\n",
      "|c61da2c7 |u48         |jogo88 |1972.12 |4.55 |2025-06-03 01:59:04.721607|u48 |Jogador 48 |jogador48@exemplo.com |BR  |false   |\n",
      "|7efb9d55 |u51         |jogo67 |16139.58|21.04|2025-06-03 01:59:04.722849|u51 |Jogador 51 |jogador51@exemplo.com |BR  |true    |\n",
      "|31a0690e |u58         |jogo12 |3129.21 |3.67 |2025-06-03 01:59:04.72349 |u58 |Jogador 58 |jogador58@exemplo.com |BR  |false   |\n",
      "|62cce7f7 |u6          |jogo35 |894.75  |5.09 |2025-06-03 01:59:07.335952|u6  |Jogador 6  |jogador6@exemplo.com  |ES  |false   |\n",
      "|e2c1d018 |u100        |jogo97 |2198.82 |3.11 |2025-06-03 01:59:09.02407 |u100|Jogador 100|jogador100@exemplo.com|BR  |false   |\n",
      "|a04abbfe |u90         |jogo76 |4188.09 |9.53 |2025-06-03 01:59:09.025069|u90 |Jogador 90 |jogador90@exemplo.com |ES  |false   |\n",
      "|83faa8b1 |u8          |jogo24 |3269.22 |1.98 |2025-06-03 01:59:09.025615|u8  |Jogador 8  |jogador8@exemplo.com  |AR  |false   |\n",
      "|becd2dc0 |u92         |jogo41 |4604.02 |2.02 |2025-06-03 01:59:09.025867|u92 |Jogador 92 |jogador92@exemplo.com |ES  |false   |\n",
      "|7bf1d936 |u28         |jogo62 |2392.81 |7.83 |2025-06-03 01:59:10.589471|u28 |Jogador 28 |jogador28@exemplo.com |FR  |false   |\n",
      "|f829f0c3 |u92         |jogo91 |3597.16 |9.63 |2025-06-03 01:59:10.59153 |u92 |Jogador 92 |jogador92@exemplo.com |ES  |false   |\n",
      "|a99f5a70 |u27         |jogo59 |2893.36 |1.76 |2025-06-03 01:59:10.593277|u27 |Jogador 27 |jogador27@exemplo.com |PT  |false   |\n",
      "|1ab4d296 |u34         |jogo22 |682.22  |6.74 |2025-06-03 01:59:12.204616|u34 |Jogador 34 |jogador34@exemplo.com |BR  |false   |\n",
      "|2e2c68af |u83         |jogo96 |403.77  |5.26 |2025-06-03 01:59:15.106176|u83 |Jogador 83 |jogador83@exemplo.com |AR  |false   |\n",
      "|18d82f03 |u65         |jogo73 |1641.22 |6.32 |2025-06-03 01:59:15.107839|u65 |Jogador 65 |jogador65@exemplo.com |ES  |false   |\n",
      "+---------+------------+-------+--------+-----+--------------------------+----+-----------+----------------------+----+--------+\n",
      "only showing top 20 rows\n",
      "\n"
     ]
    },
    {
     "name": "stderr",
     "output_type": "stream",
     "text": [
      "                                                                                \r"
     ]
    },
    {
     "name": "stdout",
     "output_type": "stream",
     "text": [
      "-------------------------------------------\n",
      "Batch: 1\n",
      "-------------------------------------------\n",
      "+----+----------+---------------+----------+\n",
      "|pais|avg_amount|suspicious_bets|total_bets|\n",
      "+----+----------+---------------+----------+\n",
      "+----+----------+---------------+----------+\n",
      "\n",
      "-------------------------------------------\n",
      "Batch: 35\n",
      "-------------------------------------------\n",
      "+---------+------------+-------+-------+----+--------------------------+----+-----------+----------------------+----+--------+\n",
      "|aposta_id|apostador_id|jogo_id|valor  |odd |timestamp                 |id  |nome       |email                 |pais|suspeita|\n",
      "+---------+------------+-------+-------+----+--------------------------+----+-----------+----------------------+----+--------+\n",
      "|1ba5d9bd |u48         |jogo7  |1632.67|5.66|2025-06-03 02:00:02.8681  |u48 |Jogador 48 |jogador48@exemplo.com |BR  |false   |\n",
      "|5ec60a04 |u72         |jogo39 |1374.2 |7.21|2025-06-03 02:00:02.868657|u72 |Jogador 72 |jogador72@exemplo.com |ES  |false   |\n",
      "|bf772ba7 |u58         |jogo33 |1347.38|7.99|2025-06-03 02:00:02.869462|u58 |Jogador 58 |jogador58@exemplo.com |BR  |false   |\n",
      "|19c5e247 |u67         |jogo16 |1091.44|8.77|2025-06-03 02:00:02.871502|u67 |Jogador 67 |jogador67@exemplo.com |AR  |false   |\n",
      "|f54f303a |u31         |jogo82 |2378.41|3.29|2025-06-03 02:00:04.578931|u31 |Jogador 31 |jogador31@exemplo.com |AR  |false   |\n",
      "|cd300776 |u60         |jogo30 |4788.21|6.57|2025-06-03 02:00:04.583211|u60 |Jogador 60 |jogador60@exemplo.com |BR  |false   |\n",
      "|376af10c |u29         |jogo20 |1928.66|5.69|2025-06-03 02:00:07.665043|u29 |Jogador 29 |jogador29@exemplo.com |ES  |false   |\n",
      "|5708795e |u95         |jogo48 |1042.71|7.57|2025-06-03 02:00:07.677668|u95 |Jogador 95 |jogador95@exemplo.com |ES  |false   |\n",
      "|a63cfac6 |u89         |jogo39 |4210.77|2.69|2025-06-03 02:00:07.680841|u89 |Jogador 89 |jogador89@exemplo.com |FR  |false   |\n",
      "|c41a1107 |u100        |jogo3  |2827.72|6.91|2025-06-03 02:00:07.687788|u100|Jogador 100|jogador100@exemplo.com|BR  |false   |\n",
      "|6fd62e4b |u80         |jogo42 |4367.59|8.87|2025-06-03 02:00:09.582393|u80 |Jogador 80 |jogador80@exemplo.com |FR  |false   |\n",
      "|ce2cd554 |u39         |jogo89 |4520.54|8.37|2025-06-03 02:00:09.582846|u39 |Jogador 39 |jogador39@exemplo.com |AR  |false   |\n",
      "|f31a0139 |u37         |jogo25 |1429.07|5.95|2025-06-03 02:00:12.321712|u37 |Jogador 37 |jogador37@exemplo.com |BR  |false   |\n",
      "|3df0a3c4 |u31         |jogo3  |2630.14|7.25|2025-06-03 02:00:14.114994|u31 |Jogador 31 |jogador31@exemplo.com |AR  |false   |\n",
      "|9b922f66 |u71         |jogo3  |3571.52|3.51|2025-06-03 02:00:15.14571 |u71 |Jogador 71 |jogador71@exemplo.com |ES  |false   |\n",
      "|6d05915f |u15         |jogo78 |1536.94|8.88|2025-06-03 02:00:17.233013|u15 |Jogador 15 |jogador15@exemplo.com |PT  |false   |\n",
      "|3a087393 |u28         |jogo49 |2779.89|7.99|2025-06-03 02:00:19.815933|u28 |Jogador 28 |jogador28@exemplo.com |FR  |false   |\n",
      "|f7d91f48 |u42         |jogo4  |3043.53|4.59|2025-06-03 02:00:19.820012|u42 |Jogador 42 |jogador42@exemplo.com |ES  |false   |\n",
      "|06b5af66 |u51         |jogo78 |4443.13|4.8 |2025-06-03 02:00:19.822114|u51 |Jogador 51 |jogador51@exemplo.com |BR  |false   |\n",
      "|43ce183f |u96         |jogo1  |2577.9 |5.2 |2025-06-03 02:00:21.915767|u96 |Jogador 96 |jogador96@exemplo.com |PT  |false   |\n",
      "+---------+------------+-------+-------+----+--------------------------+----+-----------+----------------------+----+--------+\n",
      "only showing top 20 rows\n",
      "\n"
     ]
    },
    {
     "name": "stderr",
     "output_type": "stream",
     "text": [
      "                                                                                \r"
     ]
    },
    {
     "name": "stdout",
     "output_type": "stream",
     "text": [
      "-------------------------------------------\n",
      "Batch: 2\n",
      "-------------------------------------------\n",
      "+----+----------+---------------+----------+\n",
      "|pais|avg_amount|suspicious_bets|total_bets|\n",
      "+----+----------+---------------+----------+\n",
      "+----+----------+---------------+----------+\n",
      "\n",
      "-------------------------------------------\n",
      "Batch: 36\n",
      "-------------------------------------------\n",
      "+---------+------------+-------+-------+----+--------------------------+---+----------+---------------------+----+--------+\n",
      "|aposta_id|apostador_id|jogo_id|valor  |odd |timestamp                 |id |nome      |email                |pais|suspeita|\n",
      "+---------+------------+-------+-------+----+--------------------------+---+----------+---------------------+----+--------+\n",
      "|e66c16ea |u80         |jogo93 |2074.72|8.01|2025-06-03 02:01:00.722174|u80|Jogador 80|jogador80@exemplo.com|FR  |false   |\n",
      "|4ef4c607 |u40         |jogo90 |3902.73|6.7 |2025-06-03 02:01:00.722763|u40|Jogador 40|jogador40@exemplo.com|FR  |false   |\n",
      "|3c67c74f |u75         |jogo5  |1346.11|9.42|2025-06-03 02:01:00.723503|u75|Jogador 75|jogador75@exemplo.com|FR  |false   |\n",
      "|121b4aa5 |u21         |jogo81 |2924.07|7.06|2025-06-03 02:01:00.725474|u21|Jogador 21|jogador21@exemplo.com|FR  |false   |\n",
      "|f223ad12 |u77         |jogo28 |3566.1 |7.63|2025-06-03 02:01:00.727892|u77|Jogador 77|jogador77@exemplo.com|PT  |false   |\n",
      "|444201f6 |u56         |jogo77 |2917.04|7.44|2025-06-03 02:01:01.999942|u56|Jogador 56|jogador56@exemplo.com|ES  |false   |\n",
      "|5e31a39c |u93         |jogo75 |365.56 |5.68|2025-06-03 02:01:02.005427|u93|Jogador 93|jogador93@exemplo.com|AR  |false   |\n",
      "|6dca059a |u92         |jogo25 |3571.29|3.61|2025-06-03 02:01:02.009963|u92|Jogador 92|jogador92@exemplo.com|ES  |false   |\n",
      "|49e1c49f |u72         |jogo2  |2306.41|6.85|2025-06-03 02:01:02.056203|u72|Jogador 72|jogador72@exemplo.com|ES  |false   |\n",
      "|d376ad7f |u48         |jogo76 |3221.95|2.76|2025-06-03 02:01:02.057475|u48|Jogador 48|jogador48@exemplo.com|BR  |false   |\n",
      "|c2bdf368 |u26         |jogo51 |4294.19|6.72|2025-06-03 02:01:04.926152|u26|Jogador 26|jogador26@exemplo.com|AR  |false   |\n",
      "|4a390750 |u42         |jogo8  |3113.11|6.28|2025-06-03 02:01:04.927573|u42|Jogador 42|jogador42@exemplo.com|ES  |false   |\n",
      "|28d36013 |u66         |jogo68 |4315.51|6.43|2025-06-03 02:01:04.928257|u66|Jogador 66|jogador66@exemplo.com|AR  |false   |\n",
      "|14d49d6f |u43         |jogo83 |4644.18|4.44|2025-06-03 02:01:04.928559|u43|Jogador 43|jogador43@exemplo.com|FR  |false   |\n",
      "|d6227212 |u93         |jogo68 |4464.82|2.51|2025-06-03 02:01:04.929189|u93|Jogador 93|jogador93@exemplo.com|AR  |false   |\n",
      "|01a3786d |u67         |jogo86 |130.74 |1.88|2025-06-03 02:01:07.543858|u67|Jogador 67|jogador67@exemplo.com|AR  |false   |\n",
      "|096f5507 |u31         |jogo2  |4556.33|6.27|2025-06-03 02:01:07.556259|u31|Jogador 31|jogador31@exemplo.com|AR  |false   |\n",
      "|97a6315e |u30         |jogo50 |1695.57|4.89|2025-06-03 02:01:07.560675|u30|Jogador 30|jogador30@exemplo.com|BR  |false   |\n",
      "|6e3f0435 |u53         |jogo95 |4061.25|2.2 |2025-06-03 02:01:09.126935|u53|Jogador 53|jogador53@exemplo.com|FR  |false   |\n",
      "|c000dd83 |u83         |jogo56 |1041.35|2.78|2025-06-03 02:01:09.130695|u83|Jogador 83|jogador83@exemplo.com|AR  |false   |\n",
      "+---------+------------+-------+-------+----+--------------------------+---+----------+---------------------+----+--------+\n",
      "only showing top 20 rows\n",
      "\n"
     ]
    },
    {
     "name": "stderr",
     "output_type": "stream",
     "text": [
      "                                                                                \r"
     ]
    },
    {
     "name": "stdout",
     "output_type": "stream",
     "text": [
      "-------------------------------------------\n",
      "Batch: 3\n",
      "-------------------------------------------\n",
      "+----+----------+---------------+----------+\n",
      "|pais|avg_amount|suspicious_bets|total_bets|\n",
      "+----+----------+---------------+----------+\n",
      "+----+----------+---------------+----------+\n",
      "\n",
      "-------------------------------------------\n",
      "Batch: 37\n",
      "-------------------------------------------\n",
      "+---------+------------+-------+-------+----+--------------------------+----+-----------+----------------------+----+--------+\n",
      "|aposta_id|apostador_id|jogo_id|valor  |odd |timestamp                 |id  |nome       |email                 |pais|suspeita|\n",
      "+---------+------------+-------+-------+----+--------------------------+----+-----------+----------------------+----+--------+\n",
      "|a2661ec7 |u51         |jogo79 |3431.33|3.67|2025-06-03 02:02:00.64982 |u51 |Jogador 51 |jogador51@exemplo.com |BR  |false   |\n",
      "|104f1a99 |u100        |jogo69 |295.23 |4.88|2025-06-03 02:02:02.298898|u100|Jogador 100|jogador100@exemplo.com|BR  |false   |\n",
      "|66d996f4 |u66         |jogo85 |1684.18|7.63|2025-06-03 02:02:02.308241|u66 |Jogador 66 |jogador66@exemplo.com |AR  |false   |\n",
      "|e47ec253 |u73         |jogo27 |4430.47|6.48|2025-06-03 02:02:02.310183|u73 |Jogador 73 |jogador73@exemplo.com |ES  |false   |\n",
      "|2d383399 |u35         |jogo90 |4272.95|3.32|2025-06-03 02:02:02.314803|u35 |Jogador 35 |jogador35@exemplo.com |FR  |false   |\n",
      "|202a07f1 |u11         |jogo11 |1884.55|8.26|2025-06-03 02:02:03.620079|u11 |Jogador 11 |jogador11@exemplo.com |BR  |false   |\n",
      "|c0bf54bf |u82         |jogo58 |2854.1 |2.06|2025-06-03 02:02:03.631587|u82 |Jogador 82 |jogador82@exemplo.com |FR  |false   |\n",
      "|dc81a172 |u94         |jogo66 |2866.91|4.78|2025-06-03 02:02:06.100963|u94 |Jogador 94 |jogador94@exemplo.com |AR  |false   |\n",
      "|17a12cc2 |u28         |jogo8  |4279.72|8.06|2025-06-03 02:02:06.101797|u28 |Jogador 28 |jogador28@exemplo.com |FR  |false   |\n",
      "|77d20d2a |u36         |jogo93 |3277.53|7.01|2025-06-03 02:02:06.10737 |u36 |Jogador 36 |jogador36@exemplo.com |ES  |false   |\n",
      "|a463c4fe |u97         |jogo17 |2386.62|2.4 |2025-06-03 02:02:08.982984|u97 |Jogador 97 |jogador97@exemplo.com |AR  |false   |\n",
      "|64f137f4 |u42         |jogo81 |3932.66|5.42|2025-06-03 02:02:11.622168|u42 |Jogador 42 |jogador42@exemplo.com |ES  |false   |\n",
      "|08d82672 |u15         |jogo2  |3292.89|1.98|2025-06-03 02:02:11.643506|u15 |Jogador 15 |jogador15@exemplo.com |PT  |false   |\n",
      "|029579dd |u16         |jogo19 |733.12 |5.63|2025-06-03 02:02:15.949384|u16 |Jogador 16 |jogador16@exemplo.com |BR  |false   |\n",
      "|f2e68672 |u51         |jogo98 |4350.57|7.49|2025-06-03 02:02:15.950011|u51 |Jogador 51 |jogador51@exemplo.com |BR  |false   |\n",
      "|ae0c33fa |u18         |jogo17 |2939.73|6.22|2025-06-03 02:02:17.608644|u18 |Jogador 18 |jogador18@exemplo.com |BR  |false   |\n",
      "|0bd621af |u44         |jogo29 |4892.31|6.26|2025-06-03 02:02:17.611657|u44 |Jogador 44 |jogador44@exemplo.com |BR  |false   |\n",
      "|68cf91ce |u53         |jogo17 |552.14 |3.05|2025-06-03 02:02:17.614344|u53 |Jogador 53 |jogador53@exemplo.com |FR  |false   |\n",
      "|da6def62 |u41         |jogo30 |3162.82|4.91|2025-06-03 02:02:20.337391|u41 |Jogador 41 |jogador41@exemplo.com |ES  |false   |\n",
      "|6c8d9098 |u89         |jogo80 |755.82 |3.51|2025-06-03 02:02:20.338081|u89 |Jogador 89 |jogador89@exemplo.com |FR  |false   |\n",
      "+---------+------------+-------+-------+----+--------------------------+----+-----------+----------------------+----+--------+\n",
      "only showing top 20 rows\n",
      "\n"
     ]
    },
    {
     "name": "stderr",
     "output_type": "stream",
     "text": [
      "                                                                                \r"
     ]
    },
    {
     "name": "stdout",
     "output_type": "stream",
     "text": [
      "-------------------------------------------\n",
      "Batch: 4\n",
      "-------------------------------------------\n",
      "+----+----------+---------------+----------+\n",
      "|pais|avg_amount|suspicious_bets|total_bets|\n",
      "+----+----------+---------------+----------+\n",
      "+----+----------+---------------+----------+\n",
      "\n",
      "-------------------------------------------\n",
      "Batch: 38\n",
      "-------------------------------------------\n",
      "+---------+------------+-------+--------+-----+--------------------------+---+----------+---------------------+----+--------+\n",
      "|aposta_id|apostador_id|jogo_id|valor   |odd  |timestamp                 |id |nome      |email                |pais|suspeita|\n",
      "+---------+------------+-------+--------+-----+--------------------------+---+----------+---------------------+----+--------+\n",
      "|b92744b5 |u75         |jogo77 |4153.71 |2.91 |2025-06-03 02:03:00.600609|u75|Jogador 75|jogador75@exemplo.com|FR  |false   |\n",
      "|2eaae7db |u53         |jogo59 |184.56  |3.18 |2025-06-03 02:03:00.614651|u53|Jogador 53|jogador53@exemplo.com|FR  |false   |\n",
      "|f9cb1f6b |u29         |jogo25 |15088.82|20.58|2025-06-03 02:03:03.540974|u29|Jogador 29|jogador29@exemplo.com|ES  |true    |\n",
      "|4858e490 |u62         |jogo97 |400.22  |8.43 |2025-06-03 02:03:03.544936|u62|Jogador 62|jogador62@exemplo.com|ES  |false   |\n",
      "|1b5d75d1 |u81         |jogo21 |2426.44 |9.21 |2025-06-03 02:03:03.552026|u81|Jogador 81|jogador81@exemplo.com|ES  |false   |\n",
      "|b37f6a8c |u27         |jogo60 |4741.96 |7.08 |2025-06-03 02:03:05.152368|u27|Jogador 27|jogador27@exemplo.com|PT  |false   |\n",
      "|0001a44f |u94         |jogo55 |3929.17 |6.63 |2025-06-03 02:03:05.15449 |u94|Jogador 94|jogador94@exemplo.com|AR  |false   |\n",
      "|3bc7c455 |u83         |jogo24 |176.42  |3.52 |2025-06-03 02:03:05.154882|u83|Jogador 83|jogador83@exemplo.com|AR  |false   |\n",
      "|be88d192 |u47         |jogo49 |2182.74 |3.07 |2025-06-03 02:03:07.291592|u47|Jogador 47|jogador47@exemplo.com|PT  |false   |\n",
      "|c90ebf0c |u60         |jogo22 |1167.96 |9.33 |2025-06-03 02:03:09.677653|u60|Jogador 60|jogador60@exemplo.com|BR  |false   |\n",
      "|57633ba2 |u60         |jogo40 |3984.15 |7.38 |2025-06-03 02:03:09.68231 |u60|Jogador 60|jogador60@exemplo.com|BR  |false   |\n",
      "|ad4463d2 |u70         |jogo59 |1835.56 |4.65 |2025-06-03 02:03:09.683925|u70|Jogador 70|jogador70@exemplo.com|ES  |false   |\n",
      "|ac84c1ff |u51         |jogo17 |4094.21 |2.22 |2025-06-03 02:03:09.689048|u51|Jogador 51|jogador51@exemplo.com|BR  |false   |\n",
      "|efb7f365 |u67         |jogo75 |1248.97 |9.02 |2025-06-03 02:03:12.21792 |u67|Jogador 67|jogador67@exemplo.com|AR  |false   |\n",
      "|fa09ccbd |u7          |jogo43 |736.21  |1.88 |2025-06-03 02:03:12.224317|u7 |Jogador 7 |jogador7@exemplo.com |FR  |false   |\n",
      "|c2150c33 |u4          |jogo71 |3925.13 |6.31 |2025-06-03 02:03:13.803021|u4 |Jogador 4 |jogador4@exemplo.com |ES  |false   |\n",
      "|2ae646b9 |u66         |jogo39 |1631.2  |5.82 |2025-06-03 02:03:13.815484|u66|Jogador 66|jogador66@exemplo.com|AR  |false   |\n",
      "|178e5269 |u23         |jogo89 |4059.51 |2.34 |2025-06-03 02:03:13.817045|u23|Jogador 23|jogador23@exemplo.com|FR  |false   |\n",
      "|67ca66fe |u17         |jogo36 |3822.46 |3.84 |2025-06-03 02:03:15.490925|u17|Jogador 17|jogador17@exemplo.com|FR  |false   |\n",
      "|3f102a2b |u63         |jogo81 |3436.14 |1.99 |2025-06-03 02:03:15.498572|u63|Jogador 63|jogador63@exemplo.com|BR  |false   |\n",
      "+---------+------------+-------+--------+-----+--------------------------+---+----------+---------------------+----+--------+\n",
      "only showing top 20 rows\n",
      "\n"
     ]
    },
    {
     "name": "stderr",
     "output_type": "stream",
     "text": [
      "                                                                                \r"
     ]
    },
    {
     "name": "stdout",
     "output_type": "stream",
     "text": [
      "-------------------------------------------\n",
      "Batch: 5\n",
      "-------------------------------------------\n",
      "+----+----------+---------------+----------+\n",
      "|pais|avg_amount|suspicious_bets|total_bets|\n",
      "+----+----------+---------------+----------+\n",
      "+----+----------+---------------+----------+\n",
      "\n",
      "-------------------------------------------\n",
      "Batch: 39\n",
      "-------------------------------------------\n",
      "+---------+------------+-------+--------+-----+--------------------------+---+----------+---------------------+----+--------+\n",
      "|aposta_id|apostador_id|jogo_id|valor   |odd  |timestamp                 |id |nome      |email                |pais|suspeita|\n",
      "+---------+------------+-------+--------+-----+--------------------------+---+----------+---------------------+----+--------+\n",
      "|bb0edc3d |u3          |jogo67 |19575.16|18.94|2025-06-03 02:04:01.374004|u3 |Jogador 3 |jogador3@exemplo.com |PT  |true    |\n",
      "|a4bdfde9 |u34         |jogo59 |2042.97 |4.64 |2025-06-03 02:04:01.39406 |u34|Jogador 34|jogador34@exemplo.com|BR  |false   |\n",
      "|2f4dbbbd |u75         |jogo94 |4290.47 |9.23 |2025-06-03 02:04:03.216333|u75|Jogador 75|jogador75@exemplo.com|FR  |false   |\n",
      "|67657f02 |u59         |jogo78 |844.16  |4.32 |2025-06-03 02:04:03.224502|u59|Jogador 59|jogador59@exemplo.com|FR  |false   |\n",
      "|edc34a7c |u93         |jogo85 |2003.12 |4.84 |2025-06-03 02:04:03.226121|u93|Jogador 93|jogador93@exemplo.com|AR  |false   |\n",
      "|59cf5888 |u17         |jogo72 |72.52   |6.94 |2025-06-03 02:04:03.229915|u17|Jogador 17|jogador17@exemplo.com|FR  |false   |\n",
      "|ce7f59ea |u67         |jogo88 |76.88   |3.15 |2025-06-03 02:04:03.240573|u67|Jogador 67|jogador67@exemplo.com|AR  |false   |\n",
      "|36678214 |u85         |jogo85 |2983.7  |3.17 |2025-06-03 02:04:03.246358|u85|Jogador 85|jogador85@exemplo.com|BR  |false   |\n",
      "|bab8f5fb |u33         |jogo52 |475.12  |8.79 |2025-06-03 02:04:03.250633|u33|Jogador 33|jogador33@exemplo.com|ES  |false   |\n",
      "|98ce4aac |u38         |jogo28 |2002.63 |5.92 |2025-06-03 02:04:05.266463|u38|Jogador 38|jogador38@exemplo.com|ES  |false   |\n",
      "|badd1dc7 |u53         |jogo7  |1163.16 |4.42 |2025-06-03 02:04:05.283395|u53|Jogador 53|jogador53@exemplo.com|FR  |false   |\n",
      "|4b067cbd |u81         |jogo18 |2596.29 |8.76 |2025-06-03 02:04:05.292813|u81|Jogador 81|jogador81@exemplo.com|ES  |false   |\n",
      "|9af1a3e1 |u90         |jogo77 |3073.02 |4.06 |2025-06-03 02:04:07.393349|u90|Jogador 90|jogador90@exemplo.com|ES  |false   |\n",
      "|d32bad2c |u89         |jogo22 |3292.86 |2.77 |2025-06-03 02:04:09.425288|u89|Jogador 89|jogador89@exemplo.com|FR  |false   |\n",
      "|306fe3dc |u53         |jogo11 |4370.75 |7.61 |2025-06-03 02:04:09.431888|u53|Jogador 53|jogador53@exemplo.com|FR  |false   |\n",
      "|9a8f9794 |u13         |jogo77 |1321.33 |5.63 |2025-06-03 02:04:09.439767|u13|Jogador 13|jogador13@exemplo.com|ES  |false   |\n",
      "|c60f390f |u84         |jogo96 |1336.44 |2.71 |2025-06-03 02:04:11.323472|u84|Jogador 84|jogador84@exemplo.com|AR  |false   |\n",
      "|2a61ef17 |u10         |jogo37 |2600.44 |1.27 |2025-06-03 02:04:14.855224|u10|Jogador 10|jogador10@exemplo.com|FR  |false   |\n",
      "|aceff536 |u88         |jogo21 |1437.15 |7.83 |2025-06-03 02:04:14.855959|u88|Jogador 88|jogador88@exemplo.com|ES  |false   |\n",
      "|48af90a2 |u88         |jogo74 |2740.89 |6.64 |2025-06-03 02:04:14.85669 |u88|Jogador 88|jogador88@exemplo.com|ES  |false   |\n",
      "+---------+------------+-------+--------+-----+--------------------------+---+----------+---------------------+----+--------+\n",
      "only showing top 20 rows\n",
      "\n"
     ]
    },
    {
     "name": "stderr",
     "output_type": "stream",
     "text": [
      "                                                                                \r"
     ]
    },
    {
     "name": "stdout",
     "output_type": "stream",
     "text": [
      "-------------------------------------------\n",
      "Batch: 6\n",
      "-------------------------------------------\n",
      "+----+----------+---------------+----------+\n",
      "|pais|avg_amount|suspicious_bets|total_bets|\n",
      "+----+----------+---------------+----------+\n",
      "+----+----------+---------------+----------+\n",
      "\n",
      "-------------------------------------------\n",
      "Batch: 40\n",
      "-------------------------------------------\n",
      "+---------+------------+-------+-------+----+--------------------------+---+----------+---------------------+----+--------+\n",
      "|aposta_id|apostador_id|jogo_id|valor  |odd |timestamp                 |id |nome      |email                |pais|suspeita|\n",
      "+---------+------------+-------+-------+----+--------------------------+---+----------+---------------------+----+--------+\n",
      "|299f130c |u75         |jogo39 |4427.52|2.33|2025-06-03 02:05:01.843275|u75|Jogador 75|jogador75@exemplo.com|FR  |false   |\n",
      "|ee47726b |u55         |jogo43 |2124.98|9.31|2025-06-03 02:05:01.843721|u55|Jogador 55|jogador55@exemplo.com|BR  |false   |\n",
      "|af4ce8b1 |u81         |jogo63 |2512.45|1.36|2025-06-03 02:05:01.86128 |u81|Jogador 81|jogador81@exemplo.com|ES  |false   |\n",
      "|51c9378e |u43         |jogo53 |4086.91|4.95|2025-06-03 02:05:04.691613|u43|Jogador 43|jogador43@exemplo.com|FR  |false   |\n",
      "|b68531b7 |u10         |jogo22 |830.32 |2.5 |2025-06-03 02:05:07.355986|u10|Jogador 10|jogador10@exemplo.com|FR  |false   |\n",
      "|d7fce406 |u58         |jogo61 |907.7  |8.82|2025-06-03 02:05:08.810589|u58|Jogador 58|jogador58@exemplo.com|BR  |false   |\n",
      "|e5f2b502 |u3          |jogo41 |173.94 |3.03|2025-06-03 02:05:08.811494|u3 |Jogador 3 |jogador3@exemplo.com |PT  |false   |\n",
      "|f61a1648 |u96         |jogo59 |4921.28|3.8 |2025-06-03 02:05:10.391517|u96|Jogador 96|jogador96@exemplo.com|PT  |false   |\n",
      "|f1a2affe |u12         |jogo26 |4543.13|7.79|2025-06-03 02:05:10.394426|u12|Jogador 12|jogador12@exemplo.com|FR  |false   |\n",
      "|290a60cc |u62         |jogo33 |840.99 |2.89|2025-06-03 02:05:10.395241|u62|Jogador 62|jogador62@exemplo.com|ES  |false   |\n",
      "|f9c98a47 |u26         |jogo80 |4188.46|2.98|2025-06-03 02:05:10.395681|u26|Jogador 26|jogador26@exemplo.com|AR  |false   |\n",
      "|6cf75696 |u99         |jogo40 |3578.53|7.8 |2025-06-03 02:05:10.396601|u99|Jogador 99|jogador99@exemplo.com|AR  |false   |\n",
      "|9880c1ae |u40         |jogo22 |3532.51|1.61|2025-06-03 02:05:10.402242|u40|Jogador 40|jogador40@exemplo.com|FR  |false   |\n",
      "|27ae8e2f |u58         |jogo8  |1723.86|2.56|2025-06-03 02:05:10.402682|u58|Jogador 58|jogador58@exemplo.com|BR  |false   |\n",
      "|55630f1c |u82         |jogo61 |3547.19|7.51|2025-06-03 02:05:13.104943|u82|Jogador 82|jogador82@exemplo.com|FR  |false   |\n",
      "|052fa970 |u74         |jogo24 |4081.76|5.17|2025-06-03 02:05:13.112944|u74|Jogador 74|jogador74@exemplo.com|BR  |false   |\n",
      "|86c16792 |u63         |jogo24 |1582.85|9.34|2025-06-03 02:05:16.115632|u63|Jogador 63|jogador63@exemplo.com|BR  |false   |\n",
      "|3f013a9b |u38         |jogo45 |2922.57|8.78|2025-06-03 02:05:16.118639|u38|Jogador 38|jogador38@exemplo.com|ES  |false   |\n",
      "|32be85b4 |u71         |jogo69 |2657.89|5.74|2025-06-03 02:05:16.119362|u71|Jogador 71|jogador71@exemplo.com|ES  |false   |\n",
      "|603588ac |u72         |jogo89 |3743.48|1.38|2025-06-03 02:05:18.000507|u72|Jogador 72|jogador72@exemplo.com|ES  |false   |\n",
      "+---------+------------+-------+-------+----+--------------------------+---+----------+---------------------+----+--------+\n",
      "only showing top 20 rows\n",
      "\n"
     ]
    },
    {
     "name": "stderr",
     "output_type": "stream",
     "text": [
      "                                                                                \r"
     ]
    },
    {
     "name": "stdout",
     "output_type": "stream",
     "text": [
      "-------------------------------------------\n",
      "Batch: 7\n",
      "-------------------------------------------\n",
      "+----+----------+---------------+----------+\n",
      "|pais|avg_amount|suspicious_bets|total_bets|\n",
      "+----+----------+---------------+----------+\n",
      "+----+----------+---------------+----------+\n",
      "\n",
      "-------------------------------------------\n",
      "Batch: 41\n",
      "-------------------------------------------\n",
      "+---------+------------+-------+-------+----+--------------------------+---+----------+---------------------+----+--------+\n",
      "|aposta_id|apostador_id|jogo_id|valor  |odd |timestamp                 |id |nome      |email                |pais|suspeita|\n",
      "+---------+------------+-------+-------+----+--------------------------+---+----------+---------------------+----+--------+\n",
      "|53b06f92 |u32         |jogo2  |377.18 |2.87|2025-06-03 02:06:00.946929|u32|Jogador 32|jogador32@exemplo.com|FR  |false   |\n",
      "|99372249 |u51         |jogo4  |4907.09|1.42|2025-06-03 02:06:00.958099|u51|Jogador 51|jogador51@exemplo.com|BR  |false   |\n",
      "|bd45e97a |u1          |jogo90 |3896.12|2.22|2025-06-03 02:06:02.439254|u1 |Jogador 1 |jogador1@exemplo.com |ES  |false   |\n",
      "|bf2932fe |u98         |jogo25 |2391.12|6.65|2025-06-03 02:06:02.440299|u98|Jogador 98|jogador98@exemplo.com|PT  |false   |\n",
      "|92825c01 |u77         |jogo69 |1898.23|8.32|2025-06-03 02:06:02.440675|u77|Jogador 77|jogador77@exemplo.com|PT  |false   |\n",
      "|d4017e9d |u89         |jogo25 |4629.42|1.92|2025-06-03 02:06:02.458482|u89|Jogador 89|jogador89@exemplo.com|FR  |false   |\n",
      "|e98fd22b |u46         |jogo14 |460.93 |7.07|2025-06-03 02:06:02.46615 |u46|Jogador 46|jogador46@exemplo.com|ES  |false   |\n",
      "|ab5f57c8 |u65         |jogo98 |591.74 |2.84|2025-06-03 02:06:04.177674|u65|Jogador 65|jogador65@exemplo.com|ES  |false   |\n",
      "|058ac969 |u71         |jogo60 |416.17 |4.08|2025-06-03 02:06:04.178201|u71|Jogador 71|jogador71@exemplo.com|ES  |false   |\n",
      "|74dfbdfe |u30         |jogo61 |414.96 |4.88|2025-06-03 02:06:06.873964|u30|Jogador 30|jogador30@exemplo.com|BR  |false   |\n",
      "|2359c41e |u76         |jogo28 |4453.07|8.08|2025-06-03 02:06:06.874639|u76|Jogador 76|jogador76@exemplo.com|AR  |false   |\n",
      "|b9abe684 |u4          |jogo31 |4752.28|6.3 |2025-06-03 02:06:08.200073|u4 |Jogador 4 |jogador4@exemplo.com |ES  |false   |\n",
      "|8ac8e5de |u37         |jogo55 |3517.07|1.21|2025-06-03 02:06:08.202031|u37|Jogador 37|jogador37@exemplo.com|BR  |false   |\n",
      "|a89c729a |u79         |jogo33 |966.38 |7.33|2025-06-03 02:06:11.144056|u79|Jogador 79|jogador79@exemplo.com|AR  |false   |\n",
      "|293491c4 |u14         |jogo66 |4845.04|6.81|2025-06-03 02:06:13.352791|u14|Jogador 14|jogador14@exemplo.com|FR  |false   |\n",
      "|608434a9 |u74         |jogo96 |3578.53|8.1 |2025-06-03 02:06:13.353048|u74|Jogador 74|jogador74@exemplo.com|BR  |false   |\n",
      "|d405e09f |u94         |jogo85 |2623.61|1.56|2025-06-03 02:06:13.355713|u94|Jogador 94|jogador94@exemplo.com|AR  |false   |\n",
      "|ba52321a |u35         |jogo44 |790.75 |3.31|2025-06-03 02:06:13.356073|u35|Jogador 35|jogador35@exemplo.com|FR  |false   |\n",
      "|0ea9e90e |u17         |jogo83 |4695.79|2.26|2025-06-03 02:06:13.356332|u17|Jogador 17|jogador17@exemplo.com|FR  |false   |\n",
      "|3fbfc41b |u18         |jogo39 |1655.41|4.37|2025-06-03 02:06:16.237808|u18|Jogador 18|jogador18@exemplo.com|BR  |false   |\n",
      "+---------+------------+-------+-------+----+--------------------------+---+----------+---------------------+----+--------+\n",
      "only showing top 20 rows\n",
      "\n"
     ]
    },
    {
     "name": "stderr",
     "output_type": "stream",
     "text": [
      "                                                                                \r"
     ]
    },
    {
     "name": "stdout",
     "output_type": "stream",
     "text": [
      "-------------------------------------------\n",
      "Batch: 8\n",
      "-------------------------------------------\n",
      "+----+----------+---------------+----------+\n",
      "|pais|avg_amount|suspicious_bets|total_bets|\n",
      "+----+----------+---------------+----------+\n",
      "+----+----------+---------------+----------+\n",
      "\n",
      "-------------------------------------------\n",
      "Batch: 42\n",
      "-------------------------------------------\n",
      "+---------+------------+-------+-------+----+--------------------------+---+----------+---------------------+----+--------+\n",
      "|aposta_id|apostador_id|jogo_id|valor  |odd |timestamp                 |id |nome      |email                |pais|suspeita|\n",
      "+---------+------------+-------+-------+----+--------------------------+---+----------+---------------------+----+--------+\n",
      "|a82465df |u12         |jogo69 |2898.75|8.13|2025-06-03 02:07:02.138037|u12|Jogador 12|jogador12@exemplo.com|FR  |false   |\n",
      "|d55e0f7a |u37         |jogo98 |957.18 |2.33|2025-06-03 02:07:02.157956|u37|Jogador 37|jogador37@exemplo.com|BR  |false   |\n",
      "|be982a10 |u7          |jogo20 |2533.69|6.38|2025-06-03 02:07:02.193802|u7 |Jogador 7 |jogador7@exemplo.com |FR  |false   |\n",
      "|d153f8e0 |u38         |jogo29 |601.65 |6.85|2025-06-03 02:07:04.12962 |u38|Jogador 38|jogador38@exemplo.com|ES  |false   |\n",
      "|2ddf92e9 |u41         |jogo51 |2091.43|1.45|2025-06-03 02:07:04.130037|u41|Jogador 41|jogador41@exemplo.com|ES  |false   |\n",
      "|3b110fec |u47         |jogo81 |3992.97|1.32|2025-06-03 02:07:06.152527|u47|Jogador 47|jogador47@exemplo.com|PT  |false   |\n",
      "|344e29eb |u10         |jogo91 |1035.36|9.73|2025-06-03 02:07:06.163366|u10|Jogador 10|jogador10@exemplo.com|FR  |false   |\n",
      "|17998d2c |u59         |jogo17 |1633.26|8.42|2025-06-03 02:07:08.812959|u59|Jogador 59|jogador59@exemplo.com|FR  |false   |\n",
      "|4c31cbde |u62         |jogo9  |3733.75|7.33|2025-06-03 02:07:08.815436|u62|Jogador 62|jogador62@exemplo.com|ES  |false   |\n",
      "|1e2161d0 |u72         |jogo12 |3405.14|2.54|2025-06-03 02:07:08.815894|u72|Jogador 72|jogador72@exemplo.com|ES  |false   |\n",
      "|ea673da9 |u23         |jogo67 |323.4  |5.09|2025-06-03 02:07:08.816271|u23|Jogador 23|jogador23@exemplo.com|FR  |false   |\n",
      "|5cdac7b8 |u69         |jogo84 |476.74 |4.36|2025-06-03 02:07:08.821524|u69|Jogador 69|jogador69@exemplo.com|PT  |false   |\n",
      "|7a004d90 |u50         |jogo84 |1434.54|7.12|2025-06-03 02:07:10.078914|u50|Jogador 50|jogador50@exemplo.com|PT  |false   |\n",
      "|789dda34 |u35         |jogo40 |1881.58|2.52|2025-06-03 02:07:10.080774|u35|Jogador 35|jogador35@exemplo.com|FR  |false   |\n",
      "|7ae7057f |u67         |jogo91 |1437.66|8.21|2025-06-03 02:07:10.084913|u67|Jogador 67|jogador67@exemplo.com|AR  |false   |\n",
      "|1bf8aa1d |u50         |jogo34 |3354.06|3.95|2025-06-03 02:07:10.085818|u50|Jogador 50|jogador50@exemplo.com|PT  |false   |\n",
      "|0eb9bff5 |u27         |jogo90 |528.45 |2.84|2025-06-03 02:07:11.178701|u27|Jogador 27|jogador27@exemplo.com|PT  |false   |\n",
      "|872f4eff |u60         |jogo62 |4788.62|2.54|2025-06-03 02:07:11.179531|u60|Jogador 60|jogador60@exemplo.com|BR  |false   |\n",
      "|7eb73823 |u71         |jogo66 |4355.91|9.79|2025-06-03 02:07:11.18242 |u71|Jogador 71|jogador71@exemplo.com|ES  |false   |\n",
      "|f0b14e77 |u11         |jogo56 |2465.8 |5.71|2025-06-03 02:07:12.649066|u11|Jogador 11|jogador11@exemplo.com|BR  |false   |\n",
      "+---------+------------+-------+-------+----+--------------------------+---+----------+---------------------+----+--------+\n",
      "only showing top 20 rows\n",
      "\n"
     ]
    },
    {
     "name": "stderr",
     "output_type": "stream",
     "text": [
      "                                                                                \r"
     ]
    },
    {
     "name": "stdout",
     "output_type": "stream",
     "text": [
      "-------------------------------------------\n",
      "Batch: 9\n",
      "-------------------------------------------\n",
      "+----+----------+---------------+----------+\n",
      "|pais|avg_amount|suspicious_bets|total_bets|\n",
      "+----+----------+---------------+----------+\n",
      "+----+----------+---------------+----------+\n",
      "\n",
      "-------------------------------------------\n",
      "Batch: 43\n",
      "-------------------------------------------\n",
      "+---------+------------+-------+--------+-----+--------------------------+---+----------+---------------------+----+--------+\n",
      "|aposta_id|apostador_id|jogo_id|valor   |odd  |timestamp                 |id |nome      |email                |pais|suspeita|\n",
      "+---------+------------+-------+--------+-----+--------------------------+---+----------+---------------------+----+--------+\n",
      "|6b1a402e |u2          |jogo56 |1355.35 |7.48 |2025-06-03 02:08:00.346539|u2 |Jogador 2 |jogador2@exemplo.com |FR  |false   |\n",
      "|38dd609b |u81         |jogo100|4254.86 |7.52 |2025-06-03 02:08:03.068659|u81|Jogador 81|jogador81@exemplo.com|ES  |false   |\n",
      "|2f913d26 |u99         |jogo47 |769.71  |5.48 |2025-06-03 02:08:03.076913|u99|Jogador 99|jogador99@exemplo.com|AR  |false   |\n",
      "|7a693226 |u11         |jogo22 |1740.34 |8.64 |2025-06-03 02:08:05.079955|u11|Jogador 11|jogador11@exemplo.com|BR  |false   |\n",
      "|6a6f03c4 |u58         |jogo38 |1925.13 |6.54 |2025-06-03 02:08:06.281707|u58|Jogador 58|jogador58@exemplo.com|BR  |false   |\n",
      "|46a15839 |u90         |jogo42 |17478.61|21.32|2025-06-03 02:08:06.291163|u90|Jogador 90|jogador90@exemplo.com|ES  |true    |\n",
      "|c3ef4f34 |u55         |jogo80 |3463.75 |1.36 |2025-06-03 02:08:06.29858 |u55|Jogador 55|jogador55@exemplo.com|BR  |false   |\n",
      "|870fba08 |u37         |jogo54 |4453.93 |7.09 |2025-06-03 02:08:08.714054|u37|Jogador 37|jogador37@exemplo.com|BR  |false   |\n",
      "|fc936713 |u17         |jogo60 |830.93  |3.04 |2025-06-03 02:08:08.716054|u17|Jogador 17|jogador17@exemplo.com|FR  |false   |\n",
      "|4c51c2a9 |u79         |jogo20 |1291.77 |3.29 |2025-06-03 02:08:08.718547|u79|Jogador 79|jogador79@exemplo.com|AR  |false   |\n",
      "|3c9527e1 |u18         |jogo7  |3298.69 |2.33 |2025-06-03 02:08:09.847308|u18|Jogador 18|jogador18@exemplo.com|BR  |false   |\n",
      "|57eaefb0 |u21         |jogo76 |1912.64 |6.54 |2025-06-03 02:08:09.849934|u21|Jogador 21|jogador21@exemplo.com|FR  |false   |\n",
      "|426c95f3 |u84         |jogo96 |2257.29 |4.16 |2025-06-03 02:08:09.851832|u84|Jogador 84|jogador84@exemplo.com|AR  |false   |\n",
      "|bce8d4dc |u74         |jogo12 |2092.95 |8.98 |2025-06-03 02:08:11.985633|u74|Jogador 74|jogador74@exemplo.com|BR  |false   |\n",
      "|f229ba15 |u16         |jogo49 |2404.94 |8.46 |2025-06-03 02:08:11.986039|u16|Jogador 16|jogador16@exemplo.com|BR  |false   |\n",
      "|9fcf7279 |u44         |jogo90 |3588.31 |5.3  |2025-06-03 02:08:14.824699|u44|Jogador 44|jogador44@exemplo.com|BR  |false   |\n",
      "|be9a8278 |u98         |jogo95 |3714.57 |7.8  |2025-06-03 02:08:14.827662|u98|Jogador 98|jogador98@exemplo.com|PT  |false   |\n",
      "|2d260815 |u91         |jogo39 |2090.7  |6.35 |2025-06-03 02:08:16.129618|u91|Jogador 91|jogador91@exemplo.com|FR  |false   |\n",
      "|fd2a3daa |u19         |jogo88 |1872.81 |2.27 |2025-06-03 02:08:16.13038 |u19|Jogador 19|jogador19@exemplo.com|BR  |false   |\n",
      "|335e855d |u58         |jogo90 |2243.16 |6.26 |2025-06-03 02:08:16.132164|u58|Jogador 58|jogador58@exemplo.com|BR  |false   |\n",
      "+---------+------------+-------+--------+-----+--------------------------+---+----------+---------------------+----+--------+\n",
      "only showing top 20 rows\n",
      "\n"
     ]
    },
    {
     "name": "stderr",
     "output_type": "stream",
     "text": [
      "                                                                                \r"
     ]
    },
    {
     "name": "stdout",
     "output_type": "stream",
     "text": [
      "-------------------------------------------\n",
      "Batch: 10\n",
      "-------------------------------------------\n",
      "+----+----------+---------------+----------+\n",
      "|pais|avg_amount|suspicious_bets|total_bets|\n",
      "+----+----------+---------------+----------+\n",
      "+----+----------+---------------+----------+\n",
      "\n",
      "-------------------------------------------\n",
      "Batch: 44\n",
      "-------------------------------------------\n",
      "+---------+------------+-------+-------+----+--------------------------+---+----------+---------------------+----+--------+\n",
      "|aposta_id|apostador_id|jogo_id|valor  |odd |timestamp                 |id |nome      |email                |pais|suspeita|\n",
      "+---------+------------+-------+-------+----+--------------------------+---+----------+---------------------+----+--------+\n",
      "|0ceda44b |u76         |jogo37 |1871.32|1.9 |2025-06-03 02:09:01.381664|u76|Jogador 76|jogador76@exemplo.com|AR  |false   |\n",
      "|df2ee4e6 |u35         |jogo48 |1612.18|7.86|2025-06-03 02:09:01.386559|u35|Jogador 35|jogador35@exemplo.com|FR  |false   |\n",
      "|62667696 |u53         |jogo89 |4931.44|8.41|2025-06-03 02:09:01.387178|u53|Jogador 53|jogador53@exemplo.com|FR  |false   |\n",
      "|176cf12d |u23         |jogo63 |173.26 |2.86|2025-06-03 02:09:01.391903|u23|Jogador 23|jogador23@exemplo.com|FR  |false   |\n",
      "|fe1816ea |u19         |jogo4  |4864.27|3.28|2025-06-03 02:09:03.483018|u19|Jogador 19|jogador19@exemplo.com|BR  |false   |\n",
      "|cede66bf |u62         |jogo67 |3853.03|7.34|2025-06-03 02:09:03.489459|u62|Jogador 62|jogador62@exemplo.com|ES  |false   |\n",
      "|c0176169 |u59         |jogo85 |3779.6 |1.99|2025-06-03 02:09:03.490431|u59|Jogador 59|jogador59@exemplo.com|FR  |false   |\n",
      "|a138f990 |u3          |jogo23 |1081.15|2.21|2025-06-03 02:09:03.49246 |u3 |Jogador 3 |jogador3@exemplo.com |PT  |false   |\n",
      "|beeaa840 |u63         |jogo51 |4089.81|9.81|2025-06-03 02:09:06.403829|u63|Jogador 63|jogador63@exemplo.com|BR  |false   |\n",
      "|cd454754 |u50         |jogo13 |1323.6 |7.18|2025-06-03 02:09:06.404905|u50|Jogador 50|jogador50@exemplo.com|PT  |false   |\n",
      "|ab15552d |u83         |jogo58 |2471.69|8.03|2025-06-03 02:09:06.405213|u83|Jogador 83|jogador83@exemplo.com|AR  |false   |\n",
      "|b19d8841 |u8          |jogo85 |661.56 |3.52|2025-06-03 02:09:07.902934|u8 |Jogador 8 |jogador8@exemplo.com |AR  |false   |\n",
      "|96226762 |u35         |jogo21 |2666.28|2.2 |2025-06-03 02:09:07.905418|u35|Jogador 35|jogador35@exemplo.com|FR  |false   |\n",
      "|b528dc9b |u93         |jogo83 |4706.07|1.22|2025-06-03 02:09:10.833699|u93|Jogador 93|jogador93@exemplo.com|AR  |false   |\n",
      "|7f636616 |u18         |jogo98 |2388.24|6.3 |2025-06-03 02:09:12.788896|u18|Jogador 18|jogador18@exemplo.com|BR  |false   |\n",
      "|24403aca |u96         |jogo84 |1468.46|3.1 |2025-06-03 02:09:12.79424 |u96|Jogador 96|jogador96@exemplo.com|PT  |false   |\n",
      "|0f85171a |u23         |jogo24 |3665.59|8.8 |2025-06-03 02:09:14.112947|u23|Jogador 23|jogador23@exemplo.com|FR  |false   |\n",
      "|e6bbf582 |u92         |jogo68 |2089.18|6.1 |2025-06-03 02:09:14.113484|u92|Jogador 92|jogador92@exemplo.com|ES  |false   |\n",
      "|7c7dea11 |u44         |jogo20 |2327.49|9.86|2025-06-03 02:09:14.113756|u44|Jogador 44|jogador44@exemplo.com|BR  |false   |\n",
      "|49194ab4 |u56         |jogo43 |4638.19|9.88|2025-06-03 02:09:14.114015|u56|Jogador 56|jogador56@exemplo.com|ES  |false   |\n",
      "+---------+------------+-------+-------+----+--------------------------+---+----------+---------------------+----+--------+\n",
      "only showing top 20 rows\n",
      "\n"
     ]
    },
    {
     "name": "stderr",
     "output_type": "stream",
     "text": [
      "                                                                                \r"
     ]
    },
    {
     "name": "stdout",
     "output_type": "stream",
     "text": [
      "-------------------------------------------\n",
      "Batch: 11\n",
      "-------------------------------------------\n",
      "+----+----------+---------------+----------+\n",
      "|pais|avg_amount|suspicious_bets|total_bets|\n",
      "+----+----------+---------------+----------+\n",
      "+----+----------+---------------+----------+\n",
      "\n",
      "-------------------------------------------\n",
      "Batch: 45\n",
      "-------------------------------------------\n",
      "+---------+------------+-------+--------+-----+--------------------------+---+----------+---------------------+----+--------+\n",
      "|aposta_id|apostador_id|jogo_id|valor   |odd  |timestamp                 |id |nome      |email                |pais|suspeita|\n",
      "+---------+------------+-------+--------+-----+--------------------------+---+----------+---------------------+----+--------+\n",
      "|23e9383a |u75         |jogo79 |2632.15 |5.06 |2025-06-03 02:10:01.082947|u75|Jogador 75|jogador75@exemplo.com|FR  |false   |\n",
      "|a1298316 |u59         |jogo3  |2275.49 |8.74 |2025-06-03 02:10:01.089853|u59|Jogador 59|jogador59@exemplo.com|FR  |false   |\n",
      "|6dedc9a3 |u43         |jogo67 |3923.36 |8.33 |2025-06-03 02:10:01.101684|u43|Jogador 43|jogador43@exemplo.com|FR  |false   |\n",
      "|02d244dc |u31         |jogo26 |3994.57 |3.93 |2025-06-03 02:10:02.562882|u31|Jogador 31|jogador31@exemplo.com|AR  |false   |\n",
      "|94d88815 |u10         |jogo10 |17644.69|20.59|2025-06-03 02:10:02.572006|u10|Jogador 10|jogador10@exemplo.com|FR  |true    |\n",
      "|9ffcd1b8 |u84         |jogo13 |605.07  |4.2  |2025-06-03 02:10:05.440801|u84|Jogador 84|jogador84@exemplo.com|AR  |false   |\n",
      "|a6146b78 |u60         |jogo4  |4240.23 |5.12 |2025-06-03 02:10:05.443855|u60|Jogador 60|jogador60@exemplo.com|BR  |false   |\n",
      "|8bc61315 |u12         |jogo62 |3103.44 |4.23 |2025-06-03 02:10:05.448775|u12|Jogador 12|jogador12@exemplo.com|FR  |false   |\n",
      "|df04e8dd |u82         |jogo53 |431.75  |9.44 |2025-06-03 02:10:07.736378|u82|Jogador 82|jogador82@exemplo.com|FR  |false   |\n",
      "|c41e61a4 |u61         |jogo40 |2262.97 |2.44 |2025-06-03 02:10:07.7389  |u61|Jogador 61|jogador61@exemplo.com|BR  |false   |\n",
      "|bfeec3ba |u42         |jogo70 |2730.47 |4.25 |2025-06-03 02:10:09.792931|u42|Jogador 42|jogador42@exemplo.com|ES  |false   |\n",
      "|7e842d0d |u25         |jogo91 |2233.81 |4.7  |2025-06-03 02:10:09.793666|u25|Jogador 25|jogador25@exemplo.com|AR  |false   |\n",
      "|8c41e2ce |u79         |jogo11 |1484.09 |4.5  |2025-06-03 02:10:12.133323|u79|Jogador 79|jogador79@exemplo.com|AR  |false   |\n",
      "|e2318cdd |u23         |jogo6  |4500.98 |6.22 |2025-06-03 02:10:12.135116|u23|Jogador 23|jogador23@exemplo.com|FR  |false   |\n",
      "|dd423a3a |u47         |jogo44 |850.72  |1.79 |2025-06-03 02:10:12.136027|u47|Jogador 47|jogador47@exemplo.com|PT  |false   |\n",
      "|f47a8eaf |u24         |jogo16 |3725.58 |9.37 |2025-06-03 02:10:12.143469|u24|Jogador 24|jogador24@exemplo.com|FR  |false   |\n",
      "|500a5a2d |u67         |jogo52 |4277.83 |3.8  |2025-06-03 02:10:14.849802|u67|Jogador 67|jogador67@exemplo.com|AR  |false   |\n",
      "|aa49356a |u98         |jogo39 |539.69  |8.08 |2025-06-03 02:10:14.850342|u98|Jogador 98|jogador98@exemplo.com|PT  |false   |\n",
      "|164dcd3f |u53         |jogo49 |4819.03 |3.46 |2025-06-03 02:10:16.164102|u53|Jogador 53|jogador53@exemplo.com|FR  |false   |\n",
      "|1fd30cb1 |u26         |jogo27 |3147.65 |9.78 |2025-06-03 02:10:16.16746 |u26|Jogador 26|jogador26@exemplo.com|AR  |false   |\n",
      "+---------+------------+-------+--------+-----+--------------------------+---+----------+---------------------+----+--------+\n",
      "only showing top 20 rows\n",
      "\n"
     ]
    },
    {
     "name": "stderr",
     "output_type": "stream",
     "text": [
      "                                                                                \r"
     ]
    },
    {
     "name": "stdout",
     "output_type": "stream",
     "text": [
      "-------------------------------------------\n",
      "Batch: 12\n",
      "-------------------------------------------\n",
      "+----+----------+---------------+----------+\n",
      "|pais|avg_amount|suspicious_bets|total_bets|\n",
      "+----+----------+---------------+----------+\n",
      "+----+----------+---------------+----------+\n",
      "\n",
      "-------------------------------------------\n",
      "Batch: 46\n",
      "-------------------------------------------\n",
      "+---------+------------+-------+--------+-----+--------------------------+---+----------+---------------------+----+--------+\n",
      "|aposta_id|apostador_id|jogo_id|valor   |odd  |timestamp                 |id |nome      |email                |pais|suspeita|\n",
      "+---------+------------+-------+--------+-----+--------------------------+---+----------+---------------------+----+--------+\n",
      "|614c4c84 |u91         |jogo93 |2278.01 |8.54 |2025-06-03 02:11:02.46065 |u91|Jogador 91|jogador91@exemplo.com|FR  |false   |\n",
      "|cdfdf632 |u77         |jogo62 |246.91  |9.15 |2025-06-03 02:11:02.487505|u77|Jogador 77|jogador77@exemplo.com|PT  |false   |\n",
      "|6d5addf8 |u25         |jogo69 |297.39  |7.09 |2025-06-03 02:11:02.501336|u25|Jogador 25|jogador25@exemplo.com|AR  |false   |\n",
      "|98e3e0a2 |u80         |jogo81 |55.69   |9.58 |2025-06-03 02:11:02.50208 |u80|Jogador 80|jogador80@exemplo.com|FR  |false   |\n",
      "|8146f323 |u8          |jogo76 |1431.22 |7.11 |2025-06-03 02:11:05.072298|u8 |Jogador 8 |jogador8@exemplo.com |AR  |false   |\n",
      "|25c4238a |u63         |jogo47 |810.79  |7.64 |2025-06-03 02:11:05.075386|u63|Jogador 63|jogador63@exemplo.com|BR  |false   |\n",
      "|7d3d20d7 |u49         |jogo38 |2536.95 |4.55 |2025-06-03 02:11:05.089588|u49|Jogador 49|jogador49@exemplo.com|ES  |false   |\n",
      "|91d4163f |u31         |jogo17 |4669.29 |4.94 |2025-06-03 02:11:07.899913|u31|Jogador 31|jogador31@exemplo.com|AR  |false   |\n",
      "|8e9432a3 |u67         |jogo77 |815.96  |4.48 |2025-06-03 02:11:07.900605|u67|Jogador 67|jogador67@exemplo.com|AR  |false   |\n",
      "|d4ccefb1 |u14         |jogo95 |3870.25 |3.11 |2025-06-03 02:11:07.903224|u14|Jogador 14|jogador14@exemplo.com|FR  |false   |\n",
      "|b7cc8675 |u80         |jogo93 |1308.3  |9.01 |2025-06-03 02:11:09.945274|u80|Jogador 80|jogador80@exemplo.com|FR  |false   |\n",
      "|552f84b3 |u13         |jogo88 |4850.38 |3.97 |2025-06-03 02:11:09.947353|u13|Jogador 13|jogador13@exemplo.com|ES  |false   |\n",
      "|c54e124a |u80         |jogo98 |4024.49 |8.98 |2025-06-03 02:11:09.948216|u80|Jogador 80|jogador80@exemplo.com|FR  |false   |\n",
      "|df4d48f4 |u82         |jogo30 |12792.18|24.64|2025-06-03 02:11:14.161518|u82|Jogador 82|jogador82@exemplo.com|FR  |true    |\n",
      "|4942c860 |u71         |jogo65 |3567.59 |8.27 |2025-06-03 02:11:14.161944|u71|Jogador 71|jogador71@exemplo.com|ES  |false   |\n",
      "|439fa258 |u28         |jogo59 |934.76  |6.13 |2025-06-03 02:11:15.710849|u28|Jogador 28|jogador28@exemplo.com|FR  |false   |\n",
      "|b6dd6bae |u1          |jogo67 |3561.14 |7.76 |2025-06-03 02:11:18.13296 |u1 |Jogador 1 |jogador1@exemplo.com |ES  |false   |\n",
      "|4bb0ce8c |u48         |jogo7  |271.25  |3.4  |2025-06-03 02:11:18.134135|u48|Jogador 48|jogador48@exemplo.com|BR  |false   |\n",
      "|fd4a704a |u69         |jogo55 |2302.71 |1.86 |2025-06-03 02:11:18.134868|u69|Jogador 69|jogador69@exemplo.com|PT  |false   |\n",
      "|571663a8 |u75         |jogo34 |2987.53 |9.46 |2025-06-03 02:11:19.262584|u75|Jogador 75|jogador75@exemplo.com|FR  |false   |\n",
      "+---------+------------+-------+--------+-----+--------------------------+---+----------+---------------------+----+--------+\n",
      "only showing top 20 rows\n",
      "\n"
     ]
    },
    {
     "name": "stderr",
     "output_type": "stream",
     "text": [
      "                                                                                \r"
     ]
    },
    {
     "name": "stdout",
     "output_type": "stream",
     "text": [
      "-------------------------------------------\n",
      "Batch: 13\n",
      "-------------------------------------------\n",
      "+----+----------+---------------+----------+\n",
      "|pais|avg_amount|suspicious_bets|total_bets|\n",
      "+----+----------+---------------+----------+\n",
      "+----+----------+---------------+----------+\n",
      "\n",
      "-------------------------------------------\n",
      "Batch: 47\n",
      "-------------------------------------------\n",
      "+---------+------------+-------+--------+-----+--------------------------+---+----------+---------------------+----+--------+\n",
      "|aposta_id|apostador_id|jogo_id|valor   |odd  |timestamp                 |id |nome      |email                |pais|suspeita|\n",
      "+---------+------------+-------+--------+-----+--------------------------+---+----------+---------------------+----+--------+\n",
      "|64cf020b |u25         |jogo24 |1595.11 |1.74 |2025-06-03 02:12:01.991491|u25|Jogador 25|jogador25@exemplo.com|AR  |false   |\n",
      "|7baa6f76 |u34         |jogo70 |4860.74 |2.87 |2025-06-03 02:12:01.99229 |u34|Jogador 34|jogador34@exemplo.com|BR  |false   |\n",
      "|03fd49f6 |u8          |jogo49 |18245.85|21.65|2025-06-03 02:12:01.992668|u8 |Jogador 8 |jogador8@exemplo.com |AR  |true    |\n",
      "|c06db6cc |u39         |jogo17 |1374.15 |8.94 |2025-06-03 02:12:04.170501|u39|Jogador 39|jogador39@exemplo.com|AR  |false   |\n",
      "|6086c209 |u73         |jogo16 |2847.15 |7.79 |2025-06-03 02:12:04.197277|u73|Jogador 73|jogador73@exemplo.com|ES  |false   |\n",
      "|f499d2c2 |u43         |jogo15 |4223.6  |3.57 |2025-06-03 02:12:05.483131|u43|Jogador 43|jogador43@exemplo.com|FR  |false   |\n",
      "|9c71daae |u63         |jogo65 |12124.42|19.61|2025-06-03 02:12:05.484047|u63|Jogador 63|jogador63@exemplo.com|BR  |true    |\n",
      "|16464b3a |u38         |jogo61 |3719.03 |7.12 |2025-06-03 02:12:07.263054|u38|Jogador 38|jogador38@exemplo.com|ES  |false   |\n",
      "|cb650ea0 |u15         |jogo33 |1969.59 |9.75 |2025-06-03 02:12:07.263601|u15|Jogador 15|jogador15@exemplo.com|PT  |false   |\n",
      "|9271228c |u4          |jogo13 |4501.58 |5.66 |2025-06-03 02:12:07.263962|u4 |Jogador 4 |jogador4@exemplo.com |ES  |false   |\n",
      "|9dcf96b6 |u87         |jogo37 |2668.48 |8.51 |2025-06-03 02:12:07.26458 |u87|Jogador 87|jogador87@exemplo.com|PT  |false   |\n",
      "|c0071bdb |u16         |jogo86 |4216.85 |2.15 |2025-06-03 02:12:07.266051|u16|Jogador 16|jogador16@exemplo.com|BR  |false   |\n",
      "|de536cce |u20         |jogo11 |3670.78 |2.25 |2025-06-03 02:12:07.270385|u20|Jogador 20|jogador20@exemplo.com|FR  |false   |\n",
      "|bc791b0b |u47         |jogo15 |1374.78 |9.9  |2025-06-03 02:12:10.163603|u47|Jogador 47|jogador47@exemplo.com|PT  |false   |\n",
      "|7144f8f1 |u61         |jogo27 |1820.47 |8.62 |2025-06-03 02:12:12.734967|u61|Jogador 61|jogador61@exemplo.com|BR  |false   |\n",
      "|ec912c09 |u89         |jogo97 |3470.41 |7.72 |2025-06-03 02:12:12.74272 |u89|Jogador 89|jogador89@exemplo.com|FR  |false   |\n",
      "|6c1b11c6 |u89         |jogo53 |4430.21 |1.26 |2025-06-03 02:12:14.497814|u89|Jogador 89|jogador89@exemplo.com|FR  |false   |\n",
      "|5fedc530 |u72         |jogo50 |2470.13 |6.38 |2025-06-03 02:12:14.500018|u72|Jogador 72|jogador72@exemplo.com|ES  |false   |\n",
      "|0e2084df |u37         |jogo11 |922.47  |2.73 |2025-06-03 02:12:14.500957|u37|Jogador 37|jogador37@exemplo.com|BR  |false   |\n",
      "|cd836095 |u9          |jogo29 |2071.96 |2.69 |2025-06-03 02:12:16.380934|u9 |Jogador 9 |jogador9@exemplo.com |AR  |false   |\n",
      "+---------+------------+-------+--------+-----+--------------------------+---+----------+---------------------+----+--------+\n",
      "only showing top 20 rows\n",
      "\n"
     ]
    },
    {
     "name": "stderr",
     "output_type": "stream",
     "text": [
      "                                                                                \r"
     ]
    },
    {
     "name": "stdout",
     "output_type": "stream",
     "text": [
      "-------------------------------------------\n",
      "Batch: 14\n",
      "-------------------------------------------\n",
      "+----+----------+---------------+----------+\n",
      "|pais|avg_amount|suspicious_bets|total_bets|\n",
      "+----+----------+---------------+----------+\n",
      "+----+----------+---------------+----------+\n",
      "\n",
      "-------------------------------------------\n",
      "Batch: 48\n",
      "-------------------------------------------\n",
      "+---------+------------+-------+-------+----+--------------------------+---+----------+---------------------+----+--------+\n",
      "|aposta_id|apostador_id|jogo_id|valor  |odd |timestamp                 |id |nome      |email                |pais|suspeita|\n",
      "+---------+------------+-------+-------+----+--------------------------+---+----------+---------------------+----+--------+\n",
      "|437a0350 |u84         |jogo29 |4450.88|6.44|2025-06-03 02:13:00.51099 |u84|Jogador 84|jogador84@exemplo.com|AR  |false   |\n",
      "|0f378df8 |u31         |jogo46 |951.83 |9.29|2025-06-03 02:13:00.513159|u31|Jogador 31|jogador31@exemplo.com|AR  |false   |\n",
      "|fec27663 |u16         |jogo73 |2350.81|8.96|2025-06-03 02:13:00.523902|u16|Jogador 16|jogador16@exemplo.com|BR  |false   |\n",
      "|94b51ee0 |u71         |jogo100|3168.68|4.88|2025-06-03 02:13:00.530655|u71|Jogador 71|jogador71@exemplo.com|ES  |false   |\n",
      "|026b7858 |u51         |jogo2  |290.55 |9.41|2025-06-03 02:13:00.535145|u51|Jogador 51|jogador51@exemplo.com|BR  |false   |\n",
      "|cd21982a |u8          |jogo97 |68.36  |3.64|2025-06-03 02:13:00.538162|u8 |Jogador 8 |jogador8@exemplo.com |AR  |false   |\n",
      "|b3742395 |u18         |jogo82 |630.47 |1.87|2025-06-03 02:13:03.108057|u18|Jogador 18|jogador18@exemplo.com|BR  |false   |\n",
      "|5cb8fc97 |u97         |jogo9  |3556.28|2.15|2025-06-03 02:13:03.108541|u97|Jogador 97|jogador97@exemplo.com|AR  |false   |\n",
      "|ee58bfd1 |u93         |jogo23 |3021.64|6.21|2025-06-03 02:13:03.108955|u93|Jogador 93|jogador93@exemplo.com|AR  |false   |\n",
      "|6d2b6066 |u98         |jogo45 |2601.14|2.79|2025-06-03 02:13:04.278996|u98|Jogador 98|jogador98@exemplo.com|PT  |false   |\n",
      "|74b5ff3e |u32         |jogo47 |1464.05|7.27|2025-06-03 02:13:04.291216|u32|Jogador 32|jogador32@exemplo.com|FR  |false   |\n",
      "|da997fb3 |u30         |jogo67 |1309.66|5.4 |2025-06-03 02:13:05.764791|u30|Jogador 30|jogador30@exemplo.com|BR  |false   |\n",
      "|3c367979 |u69         |jogo51 |4506.59|2.03|2025-06-03 02:13:05.783807|u69|Jogador 69|jogador69@exemplo.com|PT  |false   |\n",
      "|65133669 |u7          |jogo21 |2336.59|7.1 |2025-06-03 02:13:07.531038|u7 |Jogador 7 |jogador7@exemplo.com |FR  |false   |\n",
      "|a38b4201 |u60         |jogo15 |2700.39|1.35|2025-06-03 02:13:07.539013|u60|Jogador 60|jogador60@exemplo.com|BR  |false   |\n",
      "|e3dcc1a5 |u83         |jogo96 |1803.06|4.0 |2025-06-03 02:13:09.357985|u83|Jogador 83|jogador83@exemplo.com|AR  |false   |\n",
      "|d79bdfb8 |u9          |jogo73 |3943.9 |2.84|2025-06-03 02:13:09.359507|u9 |Jogador 9 |jogador9@exemplo.com |AR  |false   |\n",
      "|f6c8cbd6 |u49         |jogo81 |3658.82|6.7 |2025-06-03 02:13:09.363306|u49|Jogador 49|jogador49@exemplo.com|ES  |false   |\n",
      "|e11e8c0b |u81         |jogo2  |1288.1 |5.81|2025-06-03 02:13:09.364472|u81|Jogador 81|jogador81@exemplo.com|ES  |false   |\n",
      "|ef7c4581 |u61         |jogo26 |2997.58|4.13|2025-06-03 02:13:12.074138|u61|Jogador 61|jogador61@exemplo.com|BR  |false   |\n",
      "+---------+------------+-------+-------+----+--------------------------+---+----------+---------------------+----+--------+\n",
      "only showing top 20 rows\n",
      "\n"
     ]
    },
    {
     "name": "stderr",
     "output_type": "stream",
     "text": [
      "                                                                                \r"
     ]
    },
    {
     "name": "stdout",
     "output_type": "stream",
     "text": [
      "-------------------------------------------\n",
      "Batch: 15\n",
      "-------------------------------------------\n",
      "+----+----------+---------------+----------+\n",
      "|pais|avg_amount|suspicious_bets|total_bets|\n",
      "+----+----------+---------------+----------+\n",
      "+----+----------+---------------+----------+\n",
      "\n",
      "-------------------------------------------\n",
      "Batch: 49\n",
      "-------------------------------------------\n",
      "+---------+------------+-------+-------+----+--------------------------+---+----------+---------------------+----+--------+\n",
      "|aposta_id|apostador_id|jogo_id|valor  |odd |timestamp                 |id |nome      |email                |pais|suspeita|\n",
      "+---------+------------+-------+-------+----+--------------------------+---+----------+---------------------+----+--------+\n",
      "|d5500ae2 |u66         |jogo72 |2914.36|6.51|2025-06-03 02:14:00.866977|u66|Jogador 66|jogador66@exemplo.com|AR  |false   |\n",
      "|d3e850b2 |u46         |jogo69 |1844.81|4.41|2025-06-03 02:14:00.872498|u46|Jogador 46|jogador46@exemplo.com|ES  |false   |\n",
      "|a7fcbb1d |u60         |jogo78 |2585.75|9.41|2025-06-03 02:14:00.875042|u60|Jogador 60|jogador60@exemplo.com|BR  |false   |\n",
      "|922c4042 |u75         |jogo66 |881.88 |7.79|2025-06-03 02:14:00.875683|u75|Jogador 75|jogador75@exemplo.com|FR  |false   |\n",
      "|314e1057 |u2          |jogo71 |4169.9 |8.08|2025-06-03 02:14:03.877935|u2 |Jogador 2 |jogador2@exemplo.com |FR  |false   |\n",
      "|d713dfa5 |u12         |jogo99 |2755.04|1.45|2025-06-03 02:14:05.967972|u12|Jogador 12|jogador12@exemplo.com|FR  |false   |\n",
      "|46f4da91 |u67         |jogo49 |4253.97|5.6 |2025-06-03 02:14:05.978617|u67|Jogador 67|jogador67@exemplo.com|AR  |false   |\n",
      "|fbf11b6e |u66         |jogo97 |4257.27|9.8 |2025-06-03 02:14:05.97954 |u66|Jogador 66|jogador66@exemplo.com|AR  |false   |\n",
      "|7e23920f |u5          |jogo53 |2705.59|4.29|2025-06-03 02:14:08.465058|u5 |Jogador 5 |jogador5@exemplo.com |FR  |false   |\n",
      "|10047a6e |u10         |jogo27 |4384.54|8.83|2025-06-03 02:14:08.465622|u10|Jogador 10|jogador10@exemplo.com|FR  |false   |\n",
      "|cd59700f |u31         |jogo64 |922.95 |9.0 |2025-06-03 02:14:08.466003|u31|Jogador 31|jogador31@exemplo.com|AR  |false   |\n",
      "|15d5830f |u85         |jogo85 |426.88 |9.78|2025-06-03 02:14:08.466661|u85|Jogador 85|jogador85@exemplo.com|BR  |false   |\n",
      "|22bc92f3 |u66         |jogo33 |3471.53|4.9 |2025-06-03 02:14:10.716616|u66|Jogador 66|jogador66@exemplo.com|AR  |false   |\n",
      "|90f571fb |u86         |jogo23 |1531.26|3.9 |2025-06-03 02:14:10.717549|u86|Jogador 86|jogador86@exemplo.com|BR  |false   |\n",
      "|1b93f835 |u32         |jogo53 |3692.39|8.78|2025-06-03 02:14:10.722312|u32|Jogador 32|jogador32@exemplo.com|FR  |false   |\n",
      "|063df62b |u90         |jogo53 |4506.8 |6.64|2025-06-03 02:14:10.723007|u90|Jogador 90|jogador90@exemplo.com|ES  |false   |\n",
      "|42eed4e6 |u62         |jogo72 |715.71 |2.93|2025-06-03 02:14:13.08856 |u62|Jogador 62|jogador62@exemplo.com|ES  |false   |\n",
      "|6d5ac406 |u70         |jogo54 |1158.38|2.56|2025-06-03 02:14:13.09003 |u70|Jogador 70|jogador70@exemplo.com|ES  |false   |\n",
      "|666f9937 |u6          |jogo60 |2947.68|7.26|2025-06-03 02:14:13.090881|u6 |Jogador 6 |jogador6@exemplo.com |ES  |false   |\n",
      "|e3cc47ac |u12         |jogo16 |2614.96|9.26|2025-06-03 02:14:14.679434|u12|Jogador 12|jogador12@exemplo.com|FR  |false   |\n",
      "+---------+------------+-------+-------+----+--------------------------+---+----------+---------------------+----+--------+\n",
      "only showing top 20 rows\n",
      "\n"
     ]
    },
    {
     "name": "stderr",
     "output_type": "stream",
     "text": [
      "                                                                                \r"
     ]
    },
    {
     "name": "stdout",
     "output_type": "stream",
     "text": [
      "-------------------------------------------\n",
      "Batch: 16\n",
      "-------------------------------------------\n",
      "+----+----------+---------------+----------+\n",
      "|pais|avg_amount|suspicious_bets|total_bets|\n",
      "+----+----------+---------------+----------+\n",
      "+----+----------+---------------+----------+\n",
      "\n"
     ]
    },
    {
     "name": "stderr",
     "output_type": "stream",
     "text": [
      "ERROR:root:KeyboardInterrupt while sending command.\n",
      "Traceback (most recent call last):\n",
      "  File \"/home/mateus/.local/lib/python3.10/site-packages/py4j/java_gateway.py\", line 1038, in send_command\n",
      "    response = connection.send_command(command)\n",
      "  File \"/home/mateus/.local/lib/python3.10/site-packages/py4j/clientserver.py\", line 511, in send_command\n",
      "    answer = smart_decode(self.stream.readline()[:-1])\n",
      "  File \"/usr/lib/python3.10/socket.py\", line 705, in readinto\n",
      "    return self._sock.recv_into(b)\n",
      "KeyboardInterrupt\n"
     ]
    },
    {
     "ename": "KeyboardInterrupt",
     "evalue": "",
     "output_type": "error",
     "traceback": [
      "\u001b[0;31m---------------------------------------------------------------------------\u001b[0m",
      "\u001b[0;31mKeyboardInterrupt\u001b[0m                         Traceback (most recent call last)",
      "Cell \u001b[0;32mIn[25], line 81\u001b[0m\n\u001b[1;32m     66\u001b[0m query_country \u001b[38;5;241m=\u001b[39m aggregated_by_country\u001b[38;5;241m.\u001b[39mwriteStream \\\n\u001b[1;32m     67\u001b[0m     \u001b[38;5;241m.\u001b[39mformat(\u001b[38;5;124m\"\u001b[39m\u001b[38;5;124mconsole\u001b[39m\u001b[38;5;124m\"\u001b[39m) \\\n\u001b[1;32m     68\u001b[0m     \u001b[38;5;241m.\u001b[39moutputMode(\u001b[38;5;124m\"\u001b[39m\u001b[38;5;124mupdate\u001b[39m\u001b[38;5;124m\"\u001b[39m) \\\n\u001b[1;32m     69\u001b[0m     \u001b[38;5;241m.\u001b[39mtrigger(processingTime\u001b[38;5;241m=\u001b[39m\u001b[38;5;124m\"\u001b[39m\u001b[38;5;124m1 minute\u001b[39m\u001b[38;5;124m\"\u001b[39m) \\\n\u001b[1;32m     70\u001b[0m     \u001b[38;5;241m.\u001b[39moption(\u001b[38;5;124m\"\u001b[39m\u001b[38;5;124mtruncate\u001b[39m\u001b[38;5;124m\"\u001b[39m, \u001b[38;5;28;01mFalse\u001b[39;00m) \\\n\u001b[1;32m     71\u001b[0m     \u001b[38;5;241m.\u001b[39mstart()\n\u001b[1;32m     73\u001b[0m \u001b[38;5;66;03m# (Opcional) Escreve contagem de apostas suspeitas por apostador no console\u001b[39;00m\n\u001b[1;32m     74\u001b[0m \u001b[38;5;66;03m# query_bettor = suspicious_by_bettor.writeStream \\\u001b[39;00m\n\u001b[1;32m     75\u001b[0m \u001b[38;5;66;03m#     .format(\"console\") \\\u001b[39;00m\n\u001b[0;32m   (...)\u001b[0m\n\u001b[1;32m     78\u001b[0m \u001b[38;5;66;03m#     .option(\"truncate\", False) \\\u001b[39;00m\n\u001b[1;32m     79\u001b[0m \u001b[38;5;66;03m#     .start()\u001b[39;00m\n\u001b[0;32m---> 81\u001b[0m \u001b[43mquery_country\u001b[49m\u001b[38;5;241;43m.\u001b[39;49m\u001b[43mawaitTermination\u001b[49m\u001b[43m(\u001b[49m\u001b[43m)\u001b[49m\n\u001b[1;32m     82\u001b[0m \u001b[38;5;66;03m# query_bettor.awaitTermination()  # descomente para rodar a segunda query\u001b[39;00m\n",
      "File \u001b[0;32m~/.local/lib/python3.10/site-packages/pyspark/sql/streaming/query.py:221\u001b[0m, in \u001b[0;36mStreamingQuery.awaitTermination\u001b[0;34m(self, timeout)\u001b[0m\n\u001b[1;32m    219\u001b[0m     \u001b[38;5;28;01mreturn\u001b[39;00m \u001b[38;5;28mself\u001b[39m\u001b[38;5;241m.\u001b[39m_jsq\u001b[38;5;241m.\u001b[39mawaitTermination(\u001b[38;5;28mint\u001b[39m(timeout \u001b[38;5;241m*\u001b[39m \u001b[38;5;241m1000\u001b[39m))\n\u001b[1;32m    220\u001b[0m \u001b[38;5;28;01melse\u001b[39;00m:\n\u001b[0;32m--> 221\u001b[0m     \u001b[38;5;28;01mreturn\u001b[39;00m \u001b[38;5;28;43mself\u001b[39;49m\u001b[38;5;241;43m.\u001b[39;49m\u001b[43m_jsq\u001b[49m\u001b[38;5;241;43m.\u001b[39;49m\u001b[43mawaitTermination\u001b[49m\u001b[43m(\u001b[49m\u001b[43m)\u001b[49m\n",
      "File \u001b[0;32m~/.local/lib/python3.10/site-packages/py4j/java_gateway.py:1321\u001b[0m, in \u001b[0;36mJavaMember.__call__\u001b[0;34m(self, *args)\u001b[0m\n\u001b[1;32m   1314\u001b[0m args_command, temp_args \u001b[38;5;241m=\u001b[39m \u001b[38;5;28mself\u001b[39m\u001b[38;5;241m.\u001b[39m_build_args(\u001b[38;5;241m*\u001b[39margs)\n\u001b[1;32m   1316\u001b[0m command \u001b[38;5;241m=\u001b[39m proto\u001b[38;5;241m.\u001b[39mCALL_COMMAND_NAME \u001b[38;5;241m+\u001b[39m\\\n\u001b[1;32m   1317\u001b[0m     \u001b[38;5;28mself\u001b[39m\u001b[38;5;241m.\u001b[39mcommand_header \u001b[38;5;241m+\u001b[39m\\\n\u001b[1;32m   1318\u001b[0m     args_command \u001b[38;5;241m+\u001b[39m\\\n\u001b[1;32m   1319\u001b[0m     proto\u001b[38;5;241m.\u001b[39mEND_COMMAND_PART\n\u001b[0;32m-> 1321\u001b[0m answer \u001b[38;5;241m=\u001b[39m \u001b[38;5;28;43mself\u001b[39;49m\u001b[38;5;241;43m.\u001b[39;49m\u001b[43mgateway_client\u001b[49m\u001b[38;5;241;43m.\u001b[39;49m\u001b[43msend_command\u001b[49m\u001b[43m(\u001b[49m\u001b[43mcommand\u001b[49m\u001b[43m)\u001b[49m\n\u001b[1;32m   1322\u001b[0m return_value \u001b[38;5;241m=\u001b[39m get_return_value(\n\u001b[1;32m   1323\u001b[0m     answer, \u001b[38;5;28mself\u001b[39m\u001b[38;5;241m.\u001b[39mgateway_client, \u001b[38;5;28mself\u001b[39m\u001b[38;5;241m.\u001b[39mtarget_id, \u001b[38;5;28mself\u001b[39m\u001b[38;5;241m.\u001b[39mname)\n\u001b[1;32m   1325\u001b[0m \u001b[38;5;28;01mfor\u001b[39;00m temp_arg \u001b[38;5;129;01min\u001b[39;00m temp_args:\n",
      "File \u001b[0;32m~/.local/lib/python3.10/site-packages/py4j/java_gateway.py:1038\u001b[0m, in \u001b[0;36mGatewayClient.send_command\u001b[0;34m(self, command, retry, binary)\u001b[0m\n\u001b[1;32m   1036\u001b[0m connection \u001b[38;5;241m=\u001b[39m \u001b[38;5;28mself\u001b[39m\u001b[38;5;241m.\u001b[39m_get_connection()\n\u001b[1;32m   1037\u001b[0m \u001b[38;5;28;01mtry\u001b[39;00m:\n\u001b[0;32m-> 1038\u001b[0m     response \u001b[38;5;241m=\u001b[39m \u001b[43mconnection\u001b[49m\u001b[38;5;241;43m.\u001b[39;49m\u001b[43msend_command\u001b[49m\u001b[43m(\u001b[49m\u001b[43mcommand\u001b[49m\u001b[43m)\u001b[49m\n\u001b[1;32m   1039\u001b[0m     \u001b[38;5;28;01mif\u001b[39;00m binary:\n\u001b[1;32m   1040\u001b[0m         \u001b[38;5;28;01mreturn\u001b[39;00m response, \u001b[38;5;28mself\u001b[39m\u001b[38;5;241m.\u001b[39m_create_connection_guard(connection)\n",
      "File \u001b[0;32m~/.local/lib/python3.10/site-packages/py4j/clientserver.py:511\u001b[0m, in \u001b[0;36mClientServerConnection.send_command\u001b[0;34m(self, command)\u001b[0m\n\u001b[1;32m    509\u001b[0m \u001b[38;5;28;01mtry\u001b[39;00m:\n\u001b[1;32m    510\u001b[0m     \u001b[38;5;28;01mwhile\u001b[39;00m \u001b[38;5;28;01mTrue\u001b[39;00m:\n\u001b[0;32m--> 511\u001b[0m         answer \u001b[38;5;241m=\u001b[39m smart_decode(\u001b[38;5;28;43mself\u001b[39;49m\u001b[38;5;241;43m.\u001b[39;49m\u001b[43mstream\u001b[49m\u001b[38;5;241;43m.\u001b[39;49m\u001b[43mreadline\u001b[49m\u001b[43m(\u001b[49m\u001b[43m)\u001b[49m[:\u001b[38;5;241m-\u001b[39m\u001b[38;5;241m1\u001b[39m])\n\u001b[1;32m    512\u001b[0m         logger\u001b[38;5;241m.\u001b[39mdebug(\u001b[38;5;124m\"\u001b[39m\u001b[38;5;124mAnswer received: \u001b[39m\u001b[38;5;132;01m{0}\u001b[39;00m\u001b[38;5;124m\"\u001b[39m\u001b[38;5;241m.\u001b[39mformat(answer))\n\u001b[1;32m    513\u001b[0m         \u001b[38;5;66;03m# Happens when a the other end is dead. There might be an empty\u001b[39;00m\n\u001b[1;32m    514\u001b[0m         \u001b[38;5;66;03m# answer before the socket raises an error.\u001b[39;00m\n",
      "File \u001b[0;32m/usr/lib/python3.10/socket.py:705\u001b[0m, in \u001b[0;36mSocketIO.readinto\u001b[0;34m(self, b)\u001b[0m\n\u001b[1;32m    703\u001b[0m \u001b[38;5;28;01mwhile\u001b[39;00m \u001b[38;5;28;01mTrue\u001b[39;00m:\n\u001b[1;32m    704\u001b[0m     \u001b[38;5;28;01mtry\u001b[39;00m:\n\u001b[0;32m--> 705\u001b[0m         \u001b[38;5;28;01mreturn\u001b[39;00m \u001b[38;5;28;43mself\u001b[39;49m\u001b[38;5;241;43m.\u001b[39;49m\u001b[43m_sock\u001b[49m\u001b[38;5;241;43m.\u001b[39;49m\u001b[43mrecv_into\u001b[49m\u001b[43m(\u001b[49m\u001b[43mb\u001b[49m\u001b[43m)\u001b[49m\n\u001b[1;32m    706\u001b[0m     \u001b[38;5;28;01mexcept\u001b[39;00m timeout:\n\u001b[1;32m    707\u001b[0m         \u001b[38;5;28mself\u001b[39m\u001b[38;5;241m.\u001b[39m_timeout_occurred \u001b[38;5;241m=\u001b[39m \u001b[38;5;28;01mTrue\u001b[39;00m\n",
      "\u001b[0;31mKeyboardInterrupt\u001b[0m: "
     ]
    }
   ],
   "source": [
    "from pyspark.sql import SparkSession\n",
    "from pyspark.sql.functions import col, from_json, when, avg, count\n",
    "from pyspark.sql.types import StructType, StringType, TimestampType, FloatType\n",
    "\n",
    "spark = SparkSession.builder \\\n",
    "    .appName(\"KafkaStreamingApp\") \\\n",
    "    .config(\"spark.jars.packages\", \"org.postgresql:postgresql:42.2.27,org.apache.hadoop:hadoop-aws:3.3.2,com.amazonaws:aws-java-sdk-bundle:1.11.1026,org.apache.spark:spark-sql-kafka-0-10_2.12:3.5.0\") \\\n",
    "    .config(\"spark.hadoop.fs.s3a.access.key\", \"admin\") \\\n",
    "    .config(\"spark.hadoop.fs.s3a.secret.key\", \"admin123\") \\\n",
    "    .config(\"spark.hadoop.fs.s3a.endpoint\", \"http://localhost:9000\") \\\n",
    "    .config(\"spark.hadoop.fs.s3a.impl\", \"org.apache.hadoop.fs.s3a.S3AFileSystem\") \\\n",
    "    .config(\"spark.hadoop.fs.s3a.path.style.access\", \"true\") \\\n",
    "    .config(\"spark.hadoop.fs.s3a.connection.ssl.enabled\", \"false\") \\\n",
    "    .getOrCreate()\n",
    "\n",
    "# Removendo o log level para limpar o streaming\n",
    "spark.sparkContext.setLogLevel(\"WARN\")\n",
    "\n",
    "kafka_stream = spark.readStream \\\n",
    "    .format(\"kafka\") \\\n",
    "    .option(\"kafka.bootstrap.servers\", \"localhost:9092,localhost:9093\") \\\n",
    "    .option(\"subscribe\", \"stream_apostas\") \\\n",
    "    .load()\n",
    "\n",
    "# Leitura do CSV com apostadores na S3\n",
    "bettors_df = spark.read.csv(\"s3a://betalogs/apostadores.csv\", header=True, inferSchema=True)\n",
    "\n",
    "# Schema da mensagem Kafka\n",
    "message_schema = StructType() \\\n",
    "    .add(\"bet_id\", StringType()) \\\n",
    "    .add(\"bettor_id\", StringType()) \\\n",
    "    .add(\"game_id\", StringType()) \\\n",
    "    .add(\"amount\", FloatType()) \\\n",
    "    .add(\"odd\", FloatType()) \\\n",
    "    .add(\"timestamp\", TimestampType())\n",
    "\n",
    "# Parse do JSON + watermark (antes do join)\n",
    "parsed_stream = kafka_stream.selectExpr(\"CAST(value AS STRING) as json_str\") \\\n",
    "    .select(from_json(col(\"json_str\"), message_schema).alias(\"data\")) \\\n",
    "    .select(\"data.*\") \\\n",
    "    .withWatermark(\"timestamp\", \"10 minutes\")\n",
    "\n",
    "# Join com dados estáticos (apostadores)\n",
    "joined_df = parsed_stream.join(bettors_df, bettors_df.id == parsed_stream.bettor_id, \"inner\")\n",
    "\n",
    "# Coluna de suspeita\n",
    "enriched_df = joined_df.withColumn(\n",
    "    \"suspicious\",\n",
    "    when((col(\"amount\") > 12000) & (col(\"odd\") > 15), True).otherwise(False)\n",
    ")\n",
    "\n",
    "# Agregações por país (modo update)\n",
    "aggregated_by_country = enriched_df.groupBy(\"pais\").agg(\n",
    "    avg(\"amount\").alias(\"avg_amount\"),\n",
    "    count(when(col(\"suspicious\") == True, \"suspicious\")).alias(\"suspicious_bets\"),\n",
    "    count(\"*\").alias(\"total_bets\")\n",
    ")\n",
    "\n",
    "# Contagem de apostas suspeitas por apostador (modo update)\n",
    "suspicious_by_bettor = enriched_df.groupBy(\"bettor_id\").agg(\n",
    "    count(when(col(\"suspicious\") == True, \"suspicious\")).alias(\"suspicious_bets\")\n",
    ")\n",
    "\n",
    "query_country = aggregated_by_country.writeStream \\\n",
    "    .format(\"console\") \\\n",
    "    .outputMode(\"update\") \\\n",
    "    .trigger(processingTime=\"1 minute\") \\\n",
    "    .option(\"truncate\", False) \\\n",
    "    .start()\n",
    "\n",
    "\n",
    "query_country.awaitTermination()"
   ]
  },
  {
   "cell_type": "markdown",
   "id": "f29bafd22a973e61",
   "metadata": {},
   "source": [
    "repositório no github: https://github.com/MateusGurgel/Infnet-Works/tree/main/creation_of_big_data_solutions_with_spark/tp-3"
   ]
  }
 ],
 "metadata": {
  "kernelspec": {
   "display_name": "Python 3 (ipykernel)",
   "language": "python",
   "name": "python3"
  },
  "language_info": {
   "codemirror_mode": {
    "name": "ipython",
    "version": 3
   },
   "file_extension": ".py",
   "mimetype": "text/x-python",
   "name": "python",
   "nbconvert_exporter": "python",
   "pygments_lexer": "ipython3",
   "version": "3.10.12"
  }
 },
 "nbformat": 4,
 "nbformat_minor": 5
}
